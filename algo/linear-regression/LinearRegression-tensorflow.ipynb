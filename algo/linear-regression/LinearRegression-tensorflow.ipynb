{
 "cells": [
  {
   "cell_type": "code",
   "execution_count": 2,
   "outputs": [
    {
     "name": "stdout",
     "output_type": "stream",
     "text": [
      "Step:0, loss:41.99124, weight:0.10000, bias:0.10000 \n",
      "Step:10, loss:8.41603, weight:0.63600, bias:0.54256 \n",
      "Step:20, loss:2.50995, weight:0.49097, bias:0.22014 \n",
      "Step:30, loss:0.49664, weight:0.73666, bias:0.31285 \n",
      "Step:40, loss:0.06834, weight:0.73795, bias:0.19838 \n",
      "Step:50, loss:0.00898, weight:0.81428, bias:0.21094 \n",
      "Step:60, loss:0.00610, weight:0.80950, bias:0.18259 \n",
      "Step:70, loss:0.00542, weight:0.82145, bias:0.19690 \n",
      "Step:80, loss:0.00348, weight:0.80428, bias:0.19090 \n",
      "Step:90, loss:0.00187, weight:0.80480, bias:0.20184 \n"
     ]
    }
   ],
   "source": [
    "# TensorFlow 2.0 + Linear Regression\n",
    "\n",
    "import tensorflow as tf\n",
    "import numpy as np\n",
    "\n",
    "x = np.float32(np.random.rand(100,1))\n",
    "\n",
    "# y=a*x+b\n",
    "y = np.dot(x,0.8) + 0.2\n",
    "\n",
    "a = tf.Variable(np.float32())\n",
    "b = tf.Variable(np.float32())\n",
    "\n",
    "def model(x):\n",
    "    return a*x+b\n",
    "\n",
    "def loss(predicted_y, desired_y):\n",
    "    return tf.reduce_sum(tf.square(predicted_y - desired_y))\n",
    "\n",
    "optimizer = tf.optimizers.Adam(0.1)\n",
    "\n",
    "for step in range(0, 100):\n",
    "    with tf.GradientTape() as t:\n",
    "        outputs = model(x)\n",
    "        current_loss = loss(outputs, y)\n",
    "        grads = t.gradient(current_loss, [a, b])\n",
    "        optimizer.apply_gradients(zip(grads,[a, b]))\n",
    "    if step % 10 == 0:\n",
    "        print(\"Step:%d, loss:%2.5f, weight:%2.5f, bias:%2.5f \"\n",
    "              %(step, current_loss.numpy(), a.numpy(), b.numpy()))"
   ],
   "metadata": {
    "collapsed": false,
    "ExecuteTime": {
     "end_time": "2023-07-16T10:31:08.427005800Z",
     "start_time": "2023-07-16T10:31:03.954915Z"
    }
   }
  }
 ],
 "metadata": {
  "kernelspec": {
   "display_name": "Python 3",
   "language": "python",
   "name": "python3"
  },
  "language_info": {
   "codemirror_mode": {
    "name": "ipython",
    "version": 2
   },
   "file_extension": ".py",
   "mimetype": "text/x-python",
   "name": "python",
   "nbconvert_exporter": "python",
   "pygments_lexer": "ipython2",
   "version": "2.7.6"
  }
 },
 "nbformat": 4,
 "nbformat_minor": 0
}
