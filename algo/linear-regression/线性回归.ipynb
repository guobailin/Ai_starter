{
 "cells": [
  {
   "cell_type": "markdown",
   "metadata": {},
   "source": [
    "# 第一节 线性回归\n",
    "代码修改并注释：廖永,广东工业大学硕士在读,如有错误或指正,请联系136884000@qq.com  \n",
    "代码运行环境：python3.7\n",
    "安装TensorFlow的方法：pip install tensorflow\n",
    "附pandas常用功能函数网址：https://blog.csdn.net/weixin_41770169/article/details/79539232"
   ]
  },
  {
   "cell_type": "code",
   "execution_count": 81,
   "metadata": {
    "scrolled": true,
    "ExecuteTime": {
     "end_time": "2023-07-22T06:03:19.310088600Z",
     "start_time": "2023-07-22T06:03:18.521897600Z"
    }
   },
   "outputs": [],
   "source": [
    "import pandas as pd\n",
    "import numpy as np\n",
    "import matplotlib.pyplot as plt # matplotlib.pyplot是一些命令行风格函数的集合，使matplotlib以类似于MATLAB的方式工作。\n",
    "import seaborn as sns\n",
    "sns.set(context=\"notebook\", style=\"whitegrid\", palette=\"deep\")"
   ]
  },
  {
   "cell_type": "code",
   "execution_count": 82,
   "metadata": {
    "ExecuteTime": {
     "end_time": "2023-07-22T06:03:19.514091400Z",
     "start_time": "2023-07-22T06:03:18.530897900Z"
    }
   },
   "outputs": [
    {
     "name": "stdout",
     "output_type": "stream",
     "text": [
      "[[1. 0. 0. 0. 0.]\n",
      " [0. 1. 0. 0. 0.]\n",
      " [0. 0. 1. 0. 0.]\n",
      " [0. 0. 0. 1. 0.]\n",
      " [0. 0. 0. 0. 1.]]\n"
     ]
    }
   ],
   "source": [
    "A=np.eye(5)    #单位对角矩阵\n",
    "print(A)"
   ]
  },
  {
   "cell_type": "code",
   "execution_count": 83,
   "metadata": {
    "ExecuteTime": {
     "end_time": "2023-07-22T06:03:19.516107900Z",
     "start_time": "2023-07-22T06:03:18.546899100Z"
    }
   },
   "outputs": [],
   "source": [
    "df = pd.read_csv('ex1data1.txt',names=['人口','利润'])    # header = None表示没有表头\n",
    "#需要注意的是，Jupyter notebook只能打开当前目录下的数据集，如csv，所以需要使用upload把数据集倒导入到当前目录下。           \n",
    "#pd.read_csv的作用是将csv文件读入并转化为数据框形式，有非常多的参数，用到时可查阅文档。\n",
    "\n"
   ]
  },
  {
   "cell_type": "code",
   "execution_count": 84,
   "metadata": {
    "ExecuteTime": {
     "end_time": "2023-07-22T06:03:19.517090500Z",
     "start_time": "2023-07-22T06:03:18.565905700Z"
    }
   },
   "outputs": [
    {
     "data": {
      "text/plain": "       人口       利润\n0  6.1101  17.5920\n1  5.5277   9.1302\n2  8.5186  13.6620\n3  7.0032  11.8540\n4  5.8598   6.8233",
      "text/html": "<div>\n<style scoped>\n    .dataframe tbody tr th:only-of-type {\n        vertical-align: middle;\n    }\n\n    .dataframe tbody tr th {\n        vertical-align: top;\n    }\n\n    .dataframe thead th {\n        text-align: right;\n    }\n</style>\n<table border=\"1\" class=\"dataframe\">\n  <thead>\n    <tr style=\"text-align: right;\">\n      <th></th>\n      <th>人口</th>\n      <th>利润</th>\n    </tr>\n  </thead>\n  <tbody>\n    <tr>\n      <th>0</th>\n      <td>6.1101</td>\n      <td>17.5920</td>\n    </tr>\n    <tr>\n      <th>1</th>\n      <td>5.5277</td>\n      <td>9.1302</td>\n    </tr>\n    <tr>\n      <th>2</th>\n      <td>8.5186</td>\n      <td>13.6620</td>\n    </tr>\n    <tr>\n      <th>3</th>\n      <td>7.0032</td>\n      <td>11.8540</td>\n    </tr>\n    <tr>\n      <th>4</th>\n      <td>5.8598</td>\n      <td>6.8233</td>\n    </tr>\n  </tbody>\n</table>\n</div>"
     },
     "execution_count": 84,
     "metadata": {},
     "output_type": "execute_result"
    }
   ],
   "source": [
    "df.head() #读前5行\n",
    "#括号内可填写要读取的前n行，如果不填，默认为n=5"
   ]
  },
  {
   "cell_type": "code",
   "execution_count": 85,
   "metadata": {
    "scrolled": true,
    "ExecuteTime": {
     "end_time": "2023-07-22T06:03:19.518088400Z",
     "start_time": "2023-07-22T06:03:18.579922200Z"
    }
   },
   "outputs": [
    {
     "name": "stdout",
     "output_type": "stream",
     "text": [
      "<class 'pandas.core.frame.DataFrame'>\n",
      "RangeIndex: 97 entries, 0 to 96\n",
      "Data columns (total 2 columns):\n",
      " #   Column  Non-Null Count  Dtype  \n",
      "---  ------  --------------  -----  \n",
      " 0   人口      97 non-null     float64\n",
      " 1   利润      97 non-null     float64\n",
      "dtypes: float64(2)\n",
      "memory usage: 1.6 KB\n"
     ]
    }
   ],
   "source": [
    "df.info() #查看索引、数据类型和内存信息"
   ]
  },
  {
   "cell_type": "markdown",
   "metadata": {
    "collapsed": true
   },
   "source": [
    "*****\n",
    "# 通过绘制散点图来观察原始数据"
   ]
  },
  {
   "cell_type": "code",
   "execution_count": 86,
   "metadata": {
    "ExecuteTime": {
     "end_time": "2023-07-22T06:03:19.592087300Z",
     "start_time": "2023-07-22T06:03:18.593906100Z"
    }
   },
   "outputs": [
    {
     "name": "stderr",
     "output_type": "stream",
     "text": [
      "C:\\Users\\Administrator\\.conda\\envs\\Ai_starter\\lib\\site-packages\\seaborn\\axisgrid.py:118: UserWarning: Glyph 20154 (\\N{CJK UNIFIED IDEOGRAPH-4EBA}) missing from current font.\n",
      "  self._figure.tight_layout(*args, **kwargs)\n",
      "C:\\Users\\Administrator\\.conda\\envs\\Ai_starter\\lib\\site-packages\\seaborn\\axisgrid.py:118: UserWarning: Glyph 21475 (\\N{CJK UNIFIED IDEOGRAPH-53E3}) missing from current font.\n",
      "  self._figure.tight_layout(*args, **kwargs)\n",
      "C:\\Users\\Administrator\\.conda\\envs\\Ai_starter\\lib\\site-packages\\seaborn\\axisgrid.py:118: UserWarning: Glyph 21033 (\\N{CJK UNIFIED IDEOGRAPH-5229}) missing from current font.\n",
      "  self._figure.tight_layout(*args, **kwargs)\n",
      "C:\\Users\\Administrator\\.conda\\envs\\Ai_starter\\lib\\site-packages\\seaborn\\axisgrid.py:118: UserWarning: Glyph 28070 (\\N{CJK UNIFIED IDEOGRAPH-6DA6}) missing from current font.\n",
      "  self._figure.tight_layout(*args, **kwargs)\n",
      "C:\\Users\\Administrator\\.conda\\envs\\Ai_starter\\lib\\site-packages\\IPython\\core\\pylabtools.py:152: UserWarning: Glyph 20154 (\\N{CJK UNIFIED IDEOGRAPH-4EBA}) missing from current font.\n",
      "  fig.canvas.print_figure(bytes_io, **kw)\n",
      "C:\\Users\\Administrator\\.conda\\envs\\Ai_starter\\lib\\site-packages\\IPython\\core\\pylabtools.py:152: UserWarning: Glyph 21475 (\\N{CJK UNIFIED IDEOGRAPH-53E3}) missing from current font.\n",
      "  fig.canvas.print_figure(bytes_io, **kw)\n",
      "C:\\Users\\Administrator\\.conda\\envs\\Ai_starter\\lib\\site-packages\\IPython\\core\\pylabtools.py:152: UserWarning: Glyph 21033 (\\N{CJK UNIFIED IDEOGRAPH-5229}) missing from current font.\n",
      "  fig.canvas.print_figure(bytes_io, **kw)\n",
      "C:\\Users\\Administrator\\.conda\\envs\\Ai_starter\\lib\\site-packages\\IPython\\core\\pylabtools.py:152: UserWarning: Glyph 28070 (\\N{CJK UNIFIED IDEOGRAPH-6DA6}) missing from current font.\n",
      "  fig.canvas.print_figure(bytes_io, **kw)\n"
     ]
    },
    {
     "data": {
      "text/plain": "<Figure size 500x500 with 1 Axes>",
      "image/png": "[encoded data removed]"
     },
     "metadata": {},
     "output_type": "display_data"
    }
   ],
   "source": [
    "sns.lmplot(x='人口',y='利润',data=df,fit_reg = False)\n",
    "#fit_reg:拟合回归参数,如果fit_reg=True则散点图中则出现拟合直线\n",
    "plt.show()\n"
   ]
  },
  {
   "cell_type": "markdown",
   "metadata": {},
   "source": [
    "***\n",
    "# 计算代价函数"
   ]
  },
  {
   "cell_type": "markdown",
   "metadata": {},
   "source": [
    "首先，我们将创建一个以参数θ为特征函数的代价函数\n",
    "$$J\\left( \\theta  \\right)=\\frac{1}{2m}\\sum\\limits_{i=1}^{m}{{{\\left( {{h}_{\\theta }}\\left( {{x}^{(i)}} \\right)-{{y}^{(i)}} \\right)}^{2}}}$$\n",
    "其中：\\\\[{{h}_{\\theta }}\\left( x \\right)={{\\theta }^{T}}X={{\\theta }_{0}}{{x}_{0}}+{{\\theta }_{1}}{{x}_{1}}+{{\\theta }_{2}}{{x}_{2}}+...+{{\\theta }_{n}}{{x}_{n}}\\\\] "
   ]
  },
  {
   "cell_type": "code",
   "execution_count": 104,
   "metadata": {
    "ExecuteTime": {
     "end_time": "2023-07-22T06:05:26.028298800Z",
     "start_time": "2023-07-22T06:05:25.971100Z"
    }
   },
   "outputs": [],
   "source": [
    "def computeCost (X,y,theta):\n",
    "    inner=np.power((X*theta.T)-y,2)  \n",
    "    #theta.T就是矩阵theta的转置矩阵\n",
    "    #np.power(A,B)   ## 对A中的每个元素求B次方\n",
    "    return np.sum(inner)/(2*len(X))"
   ]
  },
  {
   "cell_type": "markdown",
   "metadata": {
    "collapsed": true
   },
   "source": [
    "让我们在数据中添加了一列，以便我们可以使用向量化的解决方案来计算代价和梯度。"
   ]
  },
  {
   "cell_type": "code",
   "execution_count": 88,
   "metadata": {
    "ExecuteTime": {
     "end_time": "2023-07-22T06:03:19.596106500Z",
     "start_time": "2023-07-22T06:03:19.168910300Z"
    }
   },
   "outputs": [],
   "source": [
    "df.insert(0,'ONE',1)  #在第0列插入表头为“ONE”的列，数值为1"
   ]
  },
  {
   "cell_type": "markdown",
   "metadata": {
    "collapsed": true
   },
   "source": [
    "下面对变量进行初始化"
   ]
  },
  {
   "cell_type": "code",
   "execution_count": 89,
   "metadata": {
    "scrolled": true,
    "ExecuteTime": {
     "end_time": "2023-07-22T06:03:19.596106500Z",
     "start_time": "2023-07-22T06:03:19.183908Z"
    }
   },
   "outputs": [],
   "source": [
    "#设置训练值变量X和目标变量y\n",
    "cols=df.shape[1] #获取表格df的列数\n",
    "X=df.iloc[:,0:cols-1] #除最后一列外，取其他列的所有行，即X为O和人口组成的列表\n",
    "y=df.iloc[:,cols-1:cols]#取最后一列的所有行，即y为利润\n"
   ]
  },
  {
   "cell_type": "markdown",
   "metadata": {
    "collapsed": true
   },
   "source": [
    "观察一下X和y是否正确"
   ]
  },
  {
   "cell_type": "code",
   "execution_count": 90,
   "metadata": {
    "ExecuteTime": {
     "end_time": "2023-07-22T06:03:19.605106700Z",
     "start_time": "2023-07-22T06:03:19.198911500Z"
    }
   },
   "outputs": [
    {
     "data": {
      "text/plain": "   ONE      人口\n0    1  6.1101\n1    1  5.5277\n2    1  8.5186\n3    1  7.0032\n4    1  5.8598",
      "text/html": "<div>\n<style scoped>\n    .dataframe tbody tr th:only-of-type {\n        vertical-align: middle;\n    }\n\n    .dataframe tbody tr th {\n        vertical-align: top;\n    }\n\n    .dataframe thead th {\n        text-align: right;\n    }\n</style>\n<table border=\"1\" class=\"dataframe\">\n  <thead>\n    <tr style=\"text-align: right;\">\n      <th></th>\n      <th>ONE</th>\n      <th>人口</th>\n    </tr>\n  </thead>\n  <tbody>\n    <tr>\n      <th>0</th>\n      <td>1</td>\n      <td>6.1101</td>\n    </tr>\n    <tr>\n      <th>1</th>\n      <td>1</td>\n      <td>5.5277</td>\n    </tr>\n    <tr>\n      <th>2</th>\n      <td>1</td>\n      <td>8.5186</td>\n    </tr>\n    <tr>\n      <th>3</th>\n      <td>1</td>\n      <td>7.0032</td>\n    </tr>\n    <tr>\n      <th>4</th>\n      <td>1</td>\n      <td>5.8598</td>\n    </tr>\n  </tbody>\n</table>\n</div>"
     },
     "execution_count": 90,
     "metadata": {},
     "output_type": "execute_result"
    }
   ],
   "source": [
    "X.head()#看X的前5行"
   ]
  },
  {
   "cell_type": "code",
   "execution_count": 91,
   "metadata": {
    "ExecuteTime": {
     "end_time": "2023-07-22T06:03:19.606105900Z",
     "start_time": "2023-07-22T06:03:19.217908800Z"
    }
   },
   "outputs": [
    {
     "data": {
      "text/plain": "        利润\n0  17.5920\n1   9.1302\n2  13.6620\n3  11.8540\n4   6.8233",
      "text/html": "<div>\n<style scoped>\n    .dataframe tbody tr th:only-of-type {\n        vertical-align: middle;\n    }\n\n    .dataframe tbody tr th {\n        vertical-align: top;\n    }\n\n    .dataframe thead th {\n        text-align: right;\n    }\n</style>\n<table border=\"1\" class=\"dataframe\">\n  <thead>\n    <tr style=\"text-align: right;\">\n      <th></th>\n      <th>利润</th>\n    </tr>\n  </thead>\n  <tbody>\n    <tr>\n      <th>0</th>\n      <td>17.5920</td>\n    </tr>\n    <tr>\n      <th>1</th>\n      <td>9.1302</td>\n    </tr>\n    <tr>\n      <th>2</th>\n      <td>13.6620</td>\n    </tr>\n    <tr>\n      <th>3</th>\n      <td>11.8540</td>\n    </tr>\n    <tr>\n      <th>4</th>\n      <td>6.8233</td>\n    </tr>\n  </tbody>\n</table>\n</div>"
     },
     "execution_count": 91,
     "metadata": {},
     "output_type": "execute_result"
    }
   ],
   "source": [
    "y.head()#看y的前5行"
   ]
  },
  {
   "cell_type": "markdown",
   "metadata": {
    "collapsed": true
   },
   "source": [
    "代价函数是应该是numpy矩阵，所以我们需要转换X和Y，然后才能使用它们。 我们还需要初始化theta。"
   ]
  },
  {
   "cell_type": "code",
   "execution_count": 92,
   "metadata": {
    "ExecuteTime": {
     "end_time": "2023-07-22T06:03:19.606105900Z",
     "start_time": "2023-07-22T06:03:19.230910500Z"
    }
   },
   "outputs": [],
   "source": [
    "X = np.matrix(X.values)\n",
    "y = np.matrix(y.values)\n",
    "theta = np.matrix(np.array([0,0]))"
   ]
  },
  {
   "cell_type": "code",
   "execution_count": 93,
   "metadata": {
    "ExecuteTime": {
     "end_time": "2023-07-22T06:03:19.606105900Z",
     "start_time": "2023-07-22T06:03:19.249908300Z"
    }
   },
   "outputs": [
    {
     "data": {
      "text/plain": "matrix([[0, 0]])"
     },
     "execution_count": 93,
     "metadata": {},
     "output_type": "execute_result"
    }
   ],
   "source": [
    "theta"
   ]
  },
  {
   "cell_type": "code",
   "execution_count": 94,
   "metadata": {
    "ExecuteTime": {
     "end_time": "2023-07-22T06:03:19.609105800Z",
     "start_time": "2023-07-22T06:03:19.263909900Z"
    }
   },
   "outputs": [
    {
     "data": {
      "text/plain": "((97, 2), (97, 1), (1, 2))"
     },
     "execution_count": 94,
     "metadata": {},
     "output_type": "execute_result"
    }
   ],
   "source": [
    "X.shape,y.shape,theta.shape"
   ]
  },
  {
   "cell_type": "markdown",
   "metadata": {},
   "source": [
    "计算代价函数 (theta初始值为0)."
   ]
  },
  {
   "cell_type": "code",
   "execution_count": 95,
   "metadata": {
    "ExecuteTime": {
     "end_time": "2023-07-22T06:03:19.609105800Z",
     "start_time": "2023-07-22T06:03:19.278912100Z"
    }
   },
   "outputs": [
    {
     "data": {
      "text/plain": "32.072733877455676"
     },
     "execution_count": 95,
     "metadata": {},
     "output_type": "execute_result"
    }
   ],
   "source": [
    "computeCost (X,y,theta)"
   ]
  },
  {
   "cell_type": "markdown",
   "metadata": {},
   "source": [
    "# batch gradient decent（批量梯度下降）对应笔记P21页\n",
    "$${{\\theta }_{j}}:={{\\theta }_{j}}-\\alpha \\frac{\\partial }{\\partial {{\\theta }_{j}}}J\\left( \\theta  \\right)$$"
   ]
  },
  {
   "cell_type": "code",
   "execution_count": 96,
   "metadata": {
    "ExecuteTime": {
     "end_time": "2023-07-22T06:03:19.609105800Z",
     "start_time": "2023-07-22T06:03:19.297909900Z"
    }
   },
   "outputs": [],
   "source": [
    "def gradientDescent(X,y,theta,alpha,iters):      #alpha是学习率,iters为迭代次数\n",
    "    temp=np.matrix(np.zeros(theta.shape)) #np.zeros(theta.shape)=[0.,0.],然后将temp变为矩阵[0.,0.]\n",
    "    parameters= int(theta.ravel().shape[1])  \n",
    "    #theta.ravel()：将多维数组theta降为一维，.shape[1]是统计这个一维数组有多少个元\n",
    "    #parameters表示参数\n",
    "    cost=np.zeros(iters)     #初始化代价函数值为0数组，元素个数为迭代次数\n",
    "    for i in range(iters):   #循环iters次\n",
    "        error=(X*theta.T)-y\n",
    "        for j in range(parameters):\n",
    "            term = np.multiply(error, X[:,j])  #将误差与训练数据相乘，term为偏导数，参考笔记P27\n",
    "            temp[0,j] = theta[0,j] - ((alpha / len(X)) * np.sum(term)) #更新theta\n",
    "        theta=temp\n",
    "        cost[i] = computeCost(X,y,theta)  #计算每一次的代价函数\n",
    "    return theta,cost"
   ]
  },
  {
   "cell_type": "markdown",
   "metadata": {},
   "source": [
    "初始化一些附加变量,比如学习速率α和要执行的迭代次数。"
   ]
  },
  {
   "cell_type": "code",
   "execution_count": 97,
   "metadata": {
    "ExecuteTime": {
     "end_time": "2023-07-22T06:03:19.618107800Z",
     "start_time": "2023-07-22T06:03:19.310088600Z"
    }
   },
   "outputs": [],
   "source": [
    "alpha=0.01\n",
    "iters=1500"
   ]
  },
  {
   "cell_type": "markdown",
   "metadata": {},
   "source": [
    "现在让我们运行梯度下降算法来将我们的参数θ适合于训练集。"
   ]
  },
  {
   "cell_type": "code",
   "execution_count": 98,
   "metadata": {
    "ExecuteTime": {
     "end_time": "2023-07-22T06:03:19.619089Z",
     "start_time": "2023-07-22T06:03:19.328086500Z"
    }
   },
   "outputs": [],
   "source": [
    "g, cost = gradientDescent(X, y, theta, alpha, iters) #令g和cost分别等于函数的两个返回值"
   ]
  },
  {
   "cell_type": "markdown",
   "metadata": {
    "scrolled": true
   },
   "source": [
    "看一下g"
   ]
  },
  {
   "cell_type": "code",
   "execution_count": 99,
   "metadata": {
    "ExecuteTime": {
     "end_time": "2023-07-22T06:03:19.619089Z",
     "start_time": "2023-07-22T06:03:19.468085800Z"
    }
   },
   "outputs": [
    {
     "data": {
      "text/plain": "matrix([[-3.63029144,  1.16636235]])"
     },
     "execution_count": 99,
     "metadata": {},
     "output_type": "execute_result"
    }
   ],
   "source": [
    "g"
   ]
  },
  {
   "cell_type": "markdown",
   "metadata": {},
   "source": [
    "看一下代价函数cost"
   ]
  },
  {
   "cell_type": "code",
   "execution_count": 100,
   "metadata": {
    "ExecuteTime": {
     "end_time": "2023-07-22T06:03:19.619089Z",
     "start_time": "2023-07-22T06:03:19.485086200Z"
    }
   },
   "outputs": [
    {
     "data": {
      "text/plain": "array([6.73719046, 5.93159357, 5.90115471, ..., 4.48343473, 4.48341145,\n       4.48338826])"
     },
     "execution_count": 100,
     "metadata": {},
     "output_type": "execute_result"
    }
   ],
   "source": [
    "cost"
   ]
  },
  {
   "cell_type": "markdown",
   "metadata": {
    "collapsed": true
   },
   "source": [
    "最后，我们可以使用我们拟合的参数计算训练模型的代价函数（误差）。"
   ]
  },
  {
   "cell_type": "code",
   "execution_count": 101,
   "metadata": {
    "ExecuteTime": {
     "end_time": "2023-07-22T06:03:19.619089Z",
     "start_time": "2023-07-22T06:03:19.499091500Z"
    }
   },
   "outputs": [
    {
     "data": {
      "text/plain": "4.483388256587726"
     },
     "execution_count": 101,
     "metadata": {},
     "output_type": "execute_result"
    }
   ],
   "source": [
    "computeCost(X, y, g)  #最小化的低价函数"
   ]
  },
  {
   "cell_type": "markdown",
   "metadata": {
    "collapsed": true
   },
   "source": [
    "现在我们来绘制线性模型以及数据，直观地看出它的拟合。"
   ]
  },
  {
   "cell_type": "code",
   "execution_count": 102,
   "metadata": {
    "ExecuteTime": {
     "end_time": "2023-07-22T06:03:20.027506300Z",
     "start_time": "2023-07-22T06:03:19.518088400Z"
    }
   },
   "outputs": [
    {
     "data": {
      "text/plain": "<Figure size 1200x800 with 1 Axes>",
      "image/png": "[encoded data removed]"
     },
     "metadata": {},
     "output_type": "display_data"
    }
   ],
   "source": [
    "x = np.linspace(df.人口.min(),df.人口.max(),100)#以人口最小值为起点，最大值为终点，创建元素个数为100的等差数列\n",
    "f = g[0,0] + (g[0,1] * x) #f是假设函数H\n",
    "\n",
    "fig, ax = plt.subplots(figsize=(12,8))#以其他关键字参数**fig_kw来创建图\n",
    "#figsize=(a,b):figsize 设置图形的大小,b为图形的宽,b为图形的高,单位为英寸\n",
    "ax.plot(x, f, 'r', label='Prediction')   #设置点的横坐标，纵坐标，用红色线，并且设置Prediction为关键字参数\n",
    "ax.scatter(df.人口, df.利润, label='Traning Data')  #以人口为横坐标，利润为纵坐标并且设置Traning Data为关键字参数\n",
    "ax.legend(loc=2)  #legend为显示图例函数，loc为设置图例显示的位置，loc=2即在左上方\n",
    "ax.set_xlabel('Population')  #设置x轴变量\n",
    "ax.set_ylabel('Profit')  #设置x轴变量\n",
    "ax.set_title('Predicted Profit vs. Population Size') #设置表头\n",
    "plt.show()"
   ]
  },
  {
   "cell_type": "markdown",
   "metadata": {},
   "source": [
    "由于梯度方程式函数也在每个训练迭代中输出一个代价的向量，所以我们也可以绘制。 请注意，代价总是降低 - 这是凸优化问题的一个例子。"
   ]
  },
  {
   "cell_type": "markdown",
   "metadata": {
    "collapsed": true
   },
   "source": [
    "***\n",
    "# visualize cost data（代价数据可视化）"
   ]
  },
  {
   "cell_type": "code",
   "execution_count": 103,
   "metadata": {
    "ExecuteTime": {
     "end_time": "2023-07-22T06:03:20.290555100Z",
     "start_time": "2023-07-22T06:03:19.850507500Z"
    }
   },
   "outputs": [
    {
     "name": "stderr",
     "output_type": "stream",
     "text": [
      "C:\\Users\\Administrator\\AppData\\Local\\Temp\\ipykernel_16964\\3615601049.py:1: FutureWarning: \n",
      "\n",
      "The `ci` parameter is deprecated. Use `errorbar=('ci', [10, 50, 90])` for the same effect.\n",
      "\n",
      "  ax=sns.lineplot(data=cost,err_style='band',interpolate=False,errorbar='mean',ci=[10, 50, 90],n_boot=iters)  #函数参数解释见笔记\n"
     ]
    },
    {
     "ename": "TypeError",
     "evalue": "`errorbar` must be a callable, string, or (string, number) tuple",
     "output_type": "error",
     "traceback": [
      "\u001B[1;31m---------------------------------------------------------------------------\u001B[0m",
      "\u001B[1;31mTypeError\u001B[0m                                 Traceback (most recent call last)",
      "Cell \u001B[1;32mIn[103], line 1\u001B[0m\n\u001B[1;32m----> 1\u001B[0m ax\u001B[38;5;241m=\u001B[39m\u001B[43msns\u001B[49m\u001B[38;5;241;43m.\u001B[39;49m\u001B[43mlineplot\u001B[49m\u001B[43m(\u001B[49m\u001B[43mdata\u001B[49m\u001B[38;5;241;43m=\u001B[39;49m\u001B[43mcost\u001B[49m\u001B[43m,\u001B[49m\u001B[43merr_style\u001B[49m\u001B[38;5;241;43m=\u001B[39;49m\u001B[38;5;124;43m'\u001B[39;49m\u001B[38;5;124;43mband\u001B[39;49m\u001B[38;5;124;43m'\u001B[39;49m\u001B[43m,\u001B[49m\u001B[43minterpolate\u001B[49m\u001B[38;5;241;43m=\u001B[39;49m\u001B[38;5;28;43;01mFalse\u001B[39;49;00m\u001B[43m,\u001B[49m\u001B[43merrorbar\u001B[49m\u001B[38;5;241;43m=\u001B[39;49m\u001B[38;5;124;43m'\u001B[39;49m\u001B[38;5;124;43mmean\u001B[39;49m\u001B[38;5;124;43m'\u001B[39;49m\u001B[43m,\u001B[49m\u001B[43mci\u001B[49m\u001B[38;5;241;43m=\u001B[39;49m\u001B[43m[\u001B[49m\u001B[38;5;241;43m10\u001B[39;49m\u001B[43m,\u001B[49m\u001B[43m \u001B[49m\u001B[38;5;241;43m50\u001B[39;49m\u001B[43m,\u001B[49m\u001B[43m \u001B[49m\u001B[38;5;241;43m90\u001B[39;49m\u001B[43m]\u001B[49m\u001B[43m,\u001B[49m\u001B[43mn_boot\u001B[49m\u001B[38;5;241;43m=\u001B[39;49m\u001B[43miters\u001B[49m\u001B[43m)\u001B[49m  \u001B[38;5;66;03m#函数参数解释见笔记\u001B[39;00m\n\u001B[0;32m      2\u001B[0m ax\u001B[38;5;241m.\u001B[39mset_xlabel(\u001B[38;5;124m\"\u001B[39m\u001B[38;5;124minters\u001B[39m\u001B[38;5;124m\"\u001B[39m)\n\u001B[0;32m      3\u001B[0m ax\u001B[38;5;241m.\u001B[39mset_ylabel(\u001B[38;5;124m\"\u001B[39m\u001B[38;5;124mcost\u001B[39m\u001B[38;5;124m\"\u001B[39m)\n",
      "File \u001B[1;32m~\\.conda\\envs\\Ai_starter\\lib\\site-packages\\seaborn\\relational.py:645\u001B[0m, in \u001B[0;36mlineplot\u001B[1;34m(data, x, y, hue, size, style, units, palette, hue_order, hue_norm, sizes, size_order, size_norm, dashes, markers, style_order, estimator, errorbar, n_boot, seed, orient, sort, err_style, err_kws, legend, ci, ax, **kwargs)\u001B[0m\n\u001B[0;32m    642\u001B[0m color \u001B[38;5;241m=\u001B[39m kwargs\u001B[38;5;241m.\u001B[39mpop(\u001B[38;5;124m\"\u001B[39m\u001B[38;5;124mcolor\u001B[39m\u001B[38;5;124m\"\u001B[39m, kwargs\u001B[38;5;241m.\u001B[39mpop(\u001B[38;5;124m\"\u001B[39m\u001B[38;5;124mc\u001B[39m\u001B[38;5;124m\"\u001B[39m, \u001B[38;5;28;01mNone\u001B[39;00m))\n\u001B[0;32m    643\u001B[0m kwargs[\u001B[38;5;124m\"\u001B[39m\u001B[38;5;124mcolor\u001B[39m\u001B[38;5;124m\"\u001B[39m] \u001B[38;5;241m=\u001B[39m _default_color(ax\u001B[38;5;241m.\u001B[39mplot, hue, color, kwargs)\n\u001B[1;32m--> 645\u001B[0m \u001B[43mp\u001B[49m\u001B[38;5;241;43m.\u001B[39;49m\u001B[43mplot\u001B[49m\u001B[43m(\u001B[49m\u001B[43max\u001B[49m\u001B[43m,\u001B[49m\u001B[43m \u001B[49m\u001B[43mkwargs\u001B[49m\u001B[43m)\u001B[49m\n\u001B[0;32m    646\u001B[0m \u001B[38;5;28;01mreturn\u001B[39;00m ax\n",
      "File \u001B[1;32m~\\.conda\\envs\\Ai_starter\\lib\\site-packages\\seaborn\\relational.py:404\u001B[0m, in \u001B[0;36m_LinePlotter.plot\u001B[1;34m(self, ax, kws)\u001B[0m\n\u001B[0;32m    401\u001B[0m     \u001B[38;5;28;01mraise\u001B[39;00m \u001B[38;5;167;01mValueError\u001B[39;00m(err\u001B[38;5;241m.\u001B[39mformat(\u001B[38;5;28mself\u001B[39m\u001B[38;5;241m.\u001B[39merr_style))\n\u001B[0;32m    403\u001B[0m \u001B[38;5;66;03m# Initialize the aggregation object\u001B[39;00m\n\u001B[1;32m--> 404\u001B[0m agg \u001B[38;5;241m=\u001B[39m \u001B[43mEstimateAggregator\u001B[49m\u001B[43m(\u001B[49m\n\u001B[0;32m    405\u001B[0m \u001B[43m    \u001B[49m\u001B[38;5;28;43mself\u001B[39;49m\u001B[38;5;241;43m.\u001B[39;49m\u001B[43mestimator\u001B[49m\u001B[43m,\u001B[49m\u001B[43m \u001B[49m\u001B[38;5;28;43mself\u001B[39;49m\u001B[38;5;241;43m.\u001B[39;49m\u001B[43merrorbar\u001B[49m\u001B[43m,\u001B[49m\u001B[43m \u001B[49m\u001B[43mn_boot\u001B[49m\u001B[38;5;241;43m=\u001B[39;49m\u001B[38;5;28;43mself\u001B[39;49m\u001B[38;5;241;43m.\u001B[39;49m\u001B[43mn_boot\u001B[49m\u001B[43m,\u001B[49m\u001B[43m \u001B[49m\u001B[43mseed\u001B[49m\u001B[38;5;241;43m=\u001B[39;49m\u001B[38;5;28;43mself\u001B[39;49m\u001B[38;5;241;43m.\u001B[39;49m\u001B[43mseed\u001B[49m\u001B[43m,\u001B[49m\n\u001B[0;32m    406\u001B[0m \u001B[43m\u001B[49m\u001B[43m)\u001B[49m\n\u001B[0;32m    408\u001B[0m \u001B[38;5;66;03m# TODO abstract variable to aggregate over here-ish. Better name?\u001B[39;00m\n\u001B[0;32m    409\u001B[0m orient \u001B[38;5;241m=\u001B[39m \u001B[38;5;28mself\u001B[39m\u001B[38;5;241m.\u001B[39morient\n",
      "File \u001B[1;32m~\\.conda\\envs\\Ai_starter\\lib\\site-packages\\seaborn\\_statistics.py:474\u001B[0m, in \u001B[0;36mEstimateAggregator.__init__\u001B[1;34m(self, estimator, errorbar, **boot_kws)\u001B[0m\n\u001B[0;32m    457\u001B[0m \u001B[38;5;250m\u001B[39m\u001B[38;5;124;03m\"\"\"\u001B[39;00m\n\u001B[0;32m    458\u001B[0m \u001B[38;5;124;03mData aggregator that produces an estimate and error bar interval.\u001B[39;00m\n\u001B[0;32m    459\u001B[0m \n\u001B[1;32m   (...)\u001B[0m\n\u001B[0;32m    470\u001B[0m \n\u001B[0;32m    471\u001B[0m \u001B[38;5;124;03m\"\"\"\u001B[39;00m\n\u001B[0;32m    472\u001B[0m \u001B[38;5;28mself\u001B[39m\u001B[38;5;241m.\u001B[39mestimator \u001B[38;5;241m=\u001B[39m estimator\n\u001B[1;32m--> 474\u001B[0m method, level \u001B[38;5;241m=\u001B[39m \u001B[43m_validate_errorbar_arg\u001B[49m\u001B[43m(\u001B[49m\u001B[43merrorbar\u001B[49m\u001B[43m)\u001B[49m\n\u001B[0;32m    475\u001B[0m \u001B[38;5;28mself\u001B[39m\u001B[38;5;241m.\u001B[39merror_method \u001B[38;5;241m=\u001B[39m method\n\u001B[0;32m    476\u001B[0m \u001B[38;5;28mself\u001B[39m\u001B[38;5;241m.\u001B[39merror_level \u001B[38;5;241m=\u001B[39m level\n",
      "File \u001B[1;32m~\\.conda\\envs\\Ai_starter\\lib\\site-packages\\seaborn\\_statistics.py:552\u001B[0m, in \u001B[0;36m_validate_errorbar_arg\u001B[1;34m(arg)\u001B[0m\n\u001B[0;32m    550\u001B[0m _check_argument(\u001B[38;5;124m\"\u001B[39m\u001B[38;5;124merrorbar\u001B[39m\u001B[38;5;124m\"\u001B[39m, \u001B[38;5;28mlist\u001B[39m(DEFAULT_LEVELS), method)\n\u001B[0;32m    551\u001B[0m \u001B[38;5;28;01mif\u001B[39;00m level \u001B[38;5;129;01mis\u001B[39;00m \u001B[38;5;129;01mnot\u001B[39;00m \u001B[38;5;28;01mNone\u001B[39;00m \u001B[38;5;129;01mand\u001B[39;00m \u001B[38;5;129;01mnot\u001B[39;00m \u001B[38;5;28misinstance\u001B[39m(level, Number):\n\u001B[1;32m--> 552\u001B[0m     \u001B[38;5;28;01mraise\u001B[39;00m \u001B[38;5;167;01mTypeError\u001B[39;00m(usage)\n\u001B[0;32m    554\u001B[0m \u001B[38;5;28;01mreturn\u001B[39;00m method, level\n",
      "\u001B[1;31mTypeError\u001B[0m: `errorbar` must be a callable, string, or (string, number) tuple"
     ]
    },
    {
     "data": {
      "text/plain": "<Figure size 640x480 with 1 Axes>",
      "image/png": "[encoded data removed]"
     },
     "metadata": {},
     "output_type": "display_data"
    }
   ],
   "source": [
    "ax=sns.lineplot(data=cost,err_style='band',interpolate=False,errorbar='mean',ci=[10, 50, 90],n_boot=iters)  #函数参数解释见笔记\n",
    "ax.set_xlabel(\"inters\")\n",
    "ax.set_ylabel(\"cost\")\n",
    "plt.show()"
   ]
  },
  {
   "cell_type": "markdown",
   "metadata": {
    "collapsed": true
   },
   "source": [
    "另一种调库方式"
   ]
  },
  {
   "cell_type": "code",
   "execution_count": null,
   "metadata": {
    "ExecuteTime": {
     "start_time": "2023-07-22T06:03:20.169508300Z"
    }
   },
   "outputs": [],
   "source": [
    "fig, ax = plt.subplots(figsize=(12,8)) #以其他关键字参数**fig_kw来创建图\n",
    "#figsize=(a,b):figsize 设置图形的大小,b为图形的宽,b为图形的高,单位为英寸\n",
    "ax.plot(np.arange(iters), cost, 'b') #作图:以迭代次数为x，代价函数值为y,线条颜色为红色\n",
    "ax.set_xlabel('Iterations')  #设置x轴变量\n",
    "ax.set_ylabel('Cost')  #设置y轴变量\n",
    "ax.set_title('Error vs. Training Epoch') #设置表头\n",
    "plt.show()"
   ]
  },
  {
   "cell_type": "markdown",
   "metadata": {
    "collapsed": true
   },
   "source": [
    "## 第四章 多变量线性"
   ]
  },
  {
   "cell_type": "markdown",
   "metadata": {
    "collapsed": true
   },
   "source": [
    "### 多维特征"
   ]
  },
  {
   "cell_type": "code",
   "execution_count": null,
   "metadata": {
    "ExecuteTime": {
     "start_time": "2023-07-22T06:03:20.170508600Z"
    }
   },
   "outputs": [],
   "source": [
    "data2= pd.read_csv('ex1data2.txt',names=['square','bedrooms','price']) \n",
    "data2.head()"
   ]
  },
  {
   "cell_type": "markdown",
   "metadata": {
    "collapsed": true
   },
   "source": [
    "### 特征缩放\n",
    "公式：\n",
    "$$\n",
    "x_{n}=\\frac{x_{n}-\\mu_{n}}{s_{n}}\n",
    "$$\n",
    "其中un是平均值，sn 是标准差。"
   ]
  },
  {
   "cell_type": "code",
   "execution_count": null,
   "metadata": {
    "ExecuteTime": {
     "start_time": "2023-07-22T06:03:20.173527500Z"
    }
   },
   "outputs": [],
   "source": [
    "data2 = (data2 - data2.mean()) / data2.std()\n",
    "data2.head()"
   ]
  },
  {
   "cell_type": "markdown",
   "metadata": {
    "collapsed": true
   },
   "source": [
    "现在我们重复第1部分的预处理步骤，并对新数据集运行线性回归程序。"
   ]
  },
  {
   "cell_type": "code",
   "execution_count": null,
   "metadata": {
    "ExecuteTime": {
     "start_time": "2023-07-22T06:03:20.175546300Z"
    }
   },
   "outputs": [],
   "source": [
    "# add ones column\n",
    "data2.insert(0, 'Ones', 1)#在第0列插入表头为“ONE”的列，数值为1\n",
    "\n",
    "# set X (training data) and y (target variable)\n",
    "cols = data2.shape[1]  #获取表格df的列数\n",
    "X2 = data2.iloc[:,0:cols-1]#除最后一列外，取其他列的所有行，即X2为O，面积，卧室数组成的列表\n",
    "y2 = data2.iloc[:,cols-1:cols]#取最后一列的所有行，即y2为利润\n",
    "\n",
    "# convert to matrices and initialize theta\n",
    "X2 = np.matrix(X2.values)  #转换为矩阵\n",
    "y2 = np.matrix(y2.values)  #转换为矩阵\n",
    "theta2 = np.matrix(np.array([0,0,0]))\n",
    "\n",
    "# perform linear regression on the data set\n",
    "g2, cost2 = gradientDescent(X2, y2, theta2, alpha, iters)\n",
    "\n",
    "# get the cost (error) of the model\n",
    "computeCost(X2, y2, g2)   #计算代价函数\n"
   ]
  },
  {
   "cell_type": "markdown",
   "metadata": {
    "collapsed": true
   },
   "source": [
    "我们也可以快速查看这一个的训练进程。"
   ]
  },
  {
   "cell_type": "code",
   "execution_count": null,
   "metadata": {
    "ExecuteTime": {
     "start_time": "2023-07-22T06:03:20.178514400Z"
    }
   },
   "outputs": [],
   "source": [
    "fig, ax = plt.subplots(figsize=(12,8))#以其他关键字参数**fig_kw来创建图\n",
    "#figsize=(a,b):figsize 设置图形的大小,b为图形的宽,b为图形的高,单位为英寸\n",
    "ax.plot(np.arange(iters), cost2, 'r')\n",
    "ax.set_xlabel('Iterations')\n",
    "ax.set_ylabel('Cost')\n",
    "ax.set_title('Error vs. Training Epoch')\n",
    "plt.show()"
   ]
  },
  {
   "cell_type": "markdown",
   "metadata": {},
   "source": [
    "我们也可以使用scikit-learn的线性回归函数，而不是从头开始实现这些算法。 我们将scikit-learn的线性回归算法应用于第1部分的数据，并看看它的表现。"
   ]
  },
  {
   "cell_type": "code",
   "execution_count": null,
   "metadata": {
    "ExecuteTime": {
     "start_time": "2023-07-22T06:03:20.181507400Z"
    }
   },
   "outputs": [],
   "source": [
    "from sklearn import linear_model  #从sklearn库中引入线性模块 \n",
    "model = linear_model.LinearRegression()  #声明对象为线性回归模型\n",
    "model.fit(X, y)           #拟合X,y"
   ]
  },
  {
   "cell_type": "markdown",
   "metadata": {},
   "source": [
    "scikit-learn model的预测表现"
   ]
  },
  {
   "cell_type": "code",
   "execution_count": null,
   "metadata": {
    "scrolled": true,
    "ExecuteTime": {
     "start_time": "2023-07-22T06:03:20.183508200Z"
    }
   },
   "outputs": [],
   "source": [
    "x = np.array(X[:, 1].A1)\n",
    "f = model.predict(X).flatten() #将model.predict(X)中的数据降为一维，并返回源数据的副本\n",
    "\n",
    "fig, ax = plt.subplots(figsize=(12,8))#以其他关键字参数**fig_kw来创建图\n",
    "#figsize=(a,b):figsize 设置图形的大小,b为图形的宽,b为图形的高,单位为英寸\n",
    "ax.plot(x, f, 'r', label='Prediction')   #设置点的横坐标，纵坐标，用红色线，并且设置Prediction为关键字参数\n",
    "ax.scatter(df.人口, df.利润, label='Traning Data')  #以人口为横坐标，利润为纵坐标并且设置Traning Data为关键字参数\n",
    "ax.legend(loc=2)  #legend为显示图例函数，loc为设置图例显示的位置，loc=2即在左上方\n",
    "ax.set_xlabel('Population')  #设置x轴变量\n",
    "ax.set_ylabel('Profit')  #设置x轴变量\n",
    "ax.set_title('Predicted Profit vs. Population Size') #设置表头\n",
    "plt.show()"
   ]
  },
  {
   "cell_type": "markdown",
   "metadata": {},
   "source": [
    "# 学习率"
   ]
  },
  {
   "cell_type": "code",
   "execution_count": null,
   "metadata": {
    "ExecuteTime": {
     "start_time": "2023-07-22T06:03:20.186505800Z"
    }
   },
   "outputs": [],
   "source": [
    "base = np.logspace(-5, -1, num=4)  #以10的-5次方为起点，10的-5次方为终点，元素数目为4的等比数列\n",
    "candidate = np.sort(np.concatenate((base, base*3))) #将base和base*3两个数组拼接在一起，并将其排序\n",
    "print(candidate)"
   ]
  },
  {
   "cell_type": "markdown",
   "metadata": {},
   "source": [
    "# 4. normal equation（正规方程）\n",
    "正规方程是通过求解下面的方程来找出使得代价函数最小的参数的：$\\frac{\\partial }{\\partial {{\\theta }_{j}}}J\\left( {{\\theta }_{j}} \\right)=0$ 。\n",
    " 假设我们的训练集特征矩阵为 X（包含了${{x}_{0}}=1$）并且我们的训练集结果为向量 y，则利用正规方程解出向量 $\\theta ={{\\left( {{X}^{T}}X \\right)}^{-1}}{{X}^{T}}y$ 。\n",
    "上标T代表矩阵转置，上标-1 代表矩阵的逆。设矩阵$A={{X}^{T}}X$，则：${{\\left( {{X}^{T}}X \\right)}^{-1}}={{A}^{-1}}$\n",
    "\n",
    "梯度下降与正规方程的比较：\n",
    "\n",
    "梯度下降：需要选择学习率α，需要多次迭代，当特征数量n大时也能较好适用，适用于各种类型的模型\t\n",
    "\n",
    "正规方程：不需要选择学习率α，一次计算得出，需要计算${{\\left( {{X}^{T}}X \\right)}^{-1}}$，如果特征数量n较大则运算代价大，因为矩阵逆的计算时间复杂度为O(n3)，通常来说当n小于10000 时还是可以接受的，只适用于线性模型，不适合逻辑回归模型等其他模型"
   ]
  },
  {
   "cell_type": "code",
   "execution_count": null,
   "metadata": {
    "ExecuteTime": {
     "start_time": "2023-07-22T06:03:20.187506500Z"
    }
   },
   "outputs": [],
   "source": [
    "# 正规方程\n",
    "def normalEqn(X, y):\n",
    "    theta = np.linalg.inv(X.T@X)@X.T@y#X.T@X等价于X.T.dot(X)  .dot()表示点积，也就是矩阵相乘的意思\n",
    "    return theta"
   ]
  },
  {
   "cell_type": "code",
   "execution_count": null,
   "metadata": {
    "ExecuteTime": {
     "start_time": "2023-07-22T06:03:20.189505700Z"
    }
   },
   "outputs": [],
   "source": [
    "final_theta2=normalEqn(X, y)#感觉和批量梯度下降的theta的值有点差距\n",
    "final_theta2"
   ]
  },
  {
   "cell_type": "markdown",
   "metadata": {
    "collapsed": true
   },
   "source": [
    "梯度下降为matrix([[-3.63029144,  1.16636235]])"
   ]
  }
 ],
 "metadata": {
  "kernelspec": {
   "display_name": "Python 3",
   "language": "python",
   "name": "python3"
  },
  "language_info": {
   "codemirror_mode": {
    "name": "ipython",
    "version": 3
   },
   "file_extension": ".py",
   "mimetype": "text/x-python",
   "name": "python",
   "nbconvert_exporter": "python",
   "pygments_lexer": "ipython3",
   "version": "3.7.0"
  }
 },
 "nbformat": 4,
 "nbformat_minor": 2
}
