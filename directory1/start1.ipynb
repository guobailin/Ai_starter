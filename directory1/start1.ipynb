{
 "cells": [
  {
   "cell_type": "markdown",
   "metadata": {},
   "source": [
    "# Start1"
   ]
  },
  {
   "cell_type": "markdown",
   "metadata": {},
   "source": [
    "## Tensor是什么？\n",
    "Tensor是一个概念在数学和计算机科学中的术语，它表示多维数组或张量。在机器学习中，张量是用来表示多维数据的常见数据结构。TensorFlow是一个开源的机器学习框架，它采用了张量作为其主要的数据表示方式，并支持在大规模分布式计算环境中进行高效的数值计算。\n",
    "\n",
    "张量可以被视作一种扩展的矩阵，可以具有任意数量的维度。例如，一个一维的张量是一个向量，二维的张量是一个矩阵，而三维或更高维的张量可以表示更复杂的数据结构，比如图像或视频。\n",
    "\n",
    "在TensorFlow中，张量是数据的核心表示形式。它们可以存储在计算图的节点中，并作为输入或输出传递给不同的操作。张量可以具有不同的数据类型，比如浮点数、整数或布尔值，以及不同的形状，即每个维度的大小。\n",
    "\n",
    "使用张量作为数据的表示形式使得TensorFlow能够执行高效的数值计算，并在复杂的模型和大规模数据集上进行训练和推理。通过定义计算图和使用张量操作，开发者可以利用TensorFlow的强大功能来构建和训练各种机器学习模型。"
   ]
  },
  {
   "cell_type": "markdown",
   "source": [
    "## 标量\n",
    "\n"
   ],
   "metadata": {
    "collapsed": false
   }
  },
  {
   "cell_type": "code",
   "execution_count": 2,
   "outputs": [
    {
     "name": "stdout",
     "output_type": "stream",
     "text": [
      "D:\\code\\Ai_starter\\directory1\n"
     ]
    }
   ],
   "source": [
    "import os\n",
    "print(os.path.abspath('.'))"
   ],
   "metadata": {
    "collapsed": false,
    "ExecuteTime": {
     "end_time": "2023-07-16T01:24:01.282185500Z",
     "start_time": "2023-07-16T01:24:01.250198500Z"
    }
   }
  },
  {
   "cell_type": "code",
   "execution_count": 7,
   "outputs": [
    {
     "name": "stdout",
     "output_type": "stream",
     "text": [
      "[2 3 4 5 6]\n"
     ]
    }
   ],
   "source": [
    "import numpy as np\n",
    "array = np.array([1,2,3,4,5])\n",
    "array2 = array + 1\n",
    "print(array2)"
   ],
   "metadata": {
    "collapsed": false,
    "ExecuteTime": {
     "end_time": "2023-07-16T01:27:02.070261900Z",
     "start_time": "2023-07-16T01:27:02.052286500Z"
    }
   }
  },
  {
   "cell_type": "code",
   "execution_count": 12,
   "outputs": [
    {
     "name": "stdout",
     "output_type": "stream",
     "text": [
      "[ 3  5  7  9 11]\n"
     ]
    },
    {
     "data": {
      "text/plain": "array([ 2,  6, 12, 20, 30])"
     },
     "execution_count": 12,
     "metadata": {},
     "output_type": "execute_result"
    }
   ],
   "source": [
    "array2+array\n",
    "print(array2+array)\n",
    "array2*array"
   ],
   "metadata": {
    "collapsed": false,
    "ExecuteTime": {
     "end_time": "2023-07-16T01:29:22.752329100Z",
     "start_time": "2023-07-16T01:29:22.730311400Z"
    }
   }
  },
  {
   "cell_type": "code",
   "execution_count": 17,
   "outputs": [
    {
     "name": "stdout",
     "output_type": "stream",
     "text": [
      "1\n",
      "(5,)\n"
     ]
    }
   ],
   "source": [
    "print(array.ndim)\n",
    "print(array.shape)"
   ],
   "metadata": {
    "collapsed": false,
    "ExecuteTime": {
     "end_time": "2023-07-16T01:33:43.995985800Z",
     "start_time": "2023-07-16T01:33:43.971984400Z"
    }
   }
  },
  {
   "cell_type": "code",
   "execution_count": 19,
   "outputs": [
    {
     "ename": "AttributeError",
     "evalue": "'list' object has no attribute 'shape'",
     "output_type": "error",
     "traceback": [
      "\u001B[1;31m---------------------------------------------------------------------------\u001B[0m",
      "\u001B[1;31mAttributeError\u001B[0m                            Traceback (most recent call last)",
      "Cell \u001B[1;32mIn[19], line 2\u001B[0m\n\u001B[0;32m      1\u001B[0m \u001B[38;5;28mlist\u001B[39m \u001B[38;5;241m=\u001B[39m [\u001B[38;5;241m3\u001B[39m,\u001B[38;5;241m4\u001B[39m,\u001B[38;5;241m5\u001B[39m,\u001B[38;5;241m6\u001B[39m,\u001B[38;5;241m7\u001B[39m]\n\u001B[1;32m----> 2\u001B[0m \u001B[38;5;28mlist\u001B[39m\u001B[38;5;241m.\u001B[39mshape\n",
      "\u001B[1;31mAttributeError\u001B[0m: 'list' object has no attribute 'shape'"
     ]
    }
   ],
   "source": [
    "list = [3,4,5,6,7]\n",
    "list.shape"
   ],
   "metadata": {
    "collapsed": false,
    "ExecuteTime": {
     "end_time": "2023-07-16T01:34:45.872903200Z",
     "start_time": "2023-07-16T01:34:45.851553100Z"
    }
   }
  },
  {
   "cell_type": "code",
   "execution_count": 29,
   "outputs": [
    {
     "data": {
      "text/plain": "dtype('int32')"
     },
     "execution_count": 29,
     "metadata": {},
     "output_type": "execute_result"
    }
   ],
   "source": [
    "array3 = np.array(list)\n",
    "array3.shape\n",
    "type(array3)\n",
    "array3.dtype"
   ],
   "metadata": {
    "collapsed": false,
    "ExecuteTime": {
     "end_time": "2023-07-16T01:38:26.839767900Z",
     "start_time": "2023-07-16T01:38:26.815755800Z"
    }
   }
  },
  {
   "cell_type": "code",
   "execution_count": 33,
   "outputs": [
    {
     "name": "stdout",
     "output_type": "stream",
     "text": [
      "(5,)\n",
      "5\n"
     ]
    }
   ],
   "source": [
    "print(array3.shape)\n",
    "print(array3.size)"
   ],
   "metadata": {
    "collapsed": false,
    "ExecuteTime": {
     "end_time": "2023-07-16T01:39:03.108977600Z",
     "start_time": "2023-07-16T01:39:03.070318Z"
    }
   }
  },
  {
   "cell_type": "code",
   "execution_count": 36,
   "outputs": [
    {
     "data": {
      "text/plain": "array([4, 5])"
     },
     "execution_count": 36,
     "metadata": {},
     "output_type": "execute_result"
    }
   ],
   "source": [
    "array3[1:3]"
   ],
   "metadata": {
    "collapsed": false,
    "ExecuteTime": {
     "end_time": "2023-07-16T01:39:52.674585900Z",
     "start_time": "2023-07-16T01:39:52.643122Z"
    }
   }
  },
  {
   "cell_type": "code",
   "execution_count": 39,
   "outputs": [
    {
     "name": "stdout",
     "output_type": "stream",
     "text": [
      "[[  1   2   3]\n",
      " [  4 100   6]\n",
      " [  7   8   9]]\n"
     ]
    },
    {
     "data": {
      "text/plain": "array([  4, 100,   6])"
     },
     "execution_count": 39,
     "metadata": {},
     "output_type": "execute_result"
    }
   ],
   "source": [
    "array4=np.array([[1,2,3],[4,5,6],[7,8,9]])\n",
    "array4[1,1] = 100\n",
    "print(array4)\n",
    "array4[1]"
   ],
   "metadata": {
    "collapsed": false,
    "ExecuteTime": {
     "end_time": "2023-07-16T01:43:30.903158Z",
     "start_time": "2023-07-16T01:43:30.878193500Z"
    }
   }
  },
  {
   "cell_type": "code",
   "execution_count": 53,
   "outputs": [
    {
     "name": "stdout",
     "output_type": "stream",
     "text": [
      "[ True  True  True False False  True  True False False  True]\n"
     ]
    }
   ],
   "source": [
    "mask = np.array([11,1,1,0,0,-1,1,0,0,1],dtype=bool)\n",
    "print(mask)"
   ],
   "metadata": {
    "collapsed": false,
    "ExecuteTime": {
     "end_time": "2023-07-16T01:47:29.692258300Z",
     "start_time": "2023-07-16T01:47:29.687733500Z"
    }
   }
  },
  {
   "cell_type": "code",
   "execution_count": 55,
   "outputs": [
    {
     "name": "stdout",
     "output_type": "stream",
     "text": [
      "[ 0 10 20 30 40 50 60 70 80 90]\n"
     ]
    },
    {
     "data": {
      "text/plain": "array([ 0, 10, 20, 50, 60, 90])"
     },
     "execution_count": 55,
     "metadata": {},
     "output_type": "execute_result"
    }
   ],
   "source": [
    "array = np.arange(0,100,10)\n",
    "print(array)\n",
    "array[mask]"
   ],
   "metadata": {
    "collapsed": false,
    "ExecuteTime": {
     "end_time": "2023-07-16T01:47:55.002591500Z",
     "start_time": "2023-07-16T01:47:54.980659900Z"
    }
   }
  },
  {
   "cell_type": "code",
   "execution_count": 58,
   "outputs": [
    {
     "name": "stdout",
     "output_type": "stream",
     "text": [
      "[0.55975307 0.17767392 0.14190048 0.38326408 0.48000065 0.12682784\n",
      " 0.46009902 0.47019446 0.02651778 0.53948786]\n",
      "[0.55975307 0.53948786]\n"
     ]
    }
   ],
   "source": [
    "array = np.random.rand(10)\n",
    "print(array)\n",
    "mask = array>0.5\n",
    "print(array[mask])"
   ],
   "metadata": {
    "collapsed": false,
    "ExecuteTime": {
     "end_time": "2023-07-16T01:49:02.413416600Z",
     "start_time": "2023-07-16T01:49:02.405762200Z"
    }
   }
  }
 ],
 "metadata": {
  "kernelspec": {
   "display_name": "Python 3 (ipykernel)",
   "language": "python",
   "name": "python3"
  },
  "language_info": {
   "codemirror_mode": {
    "name": "ipython",
    "version": 3
   },
   "file_extension": ".py",
   "mimetype": "text/x-python",
   "name": "python",
   "nbconvert_exporter": "python",
   "pygments_lexer": "ipython3",
   "version": "3.11.3"
  }
 },
 "nbformat": 4,
 "nbformat_minor": 2
}
