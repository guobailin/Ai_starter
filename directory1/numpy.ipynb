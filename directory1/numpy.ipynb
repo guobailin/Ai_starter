{
 "cells": [
  {
   "cell_type": "markdown",
   "metadata": {},
   "source": [
    "# Start1"
   ]
  },
  {
   "cell_type": "markdown",
   "metadata": {},
   "source": [
    "## Tensor是什么？\n",
    "Tensor是一个概念在数学和计算机科学中的术语，它表示多维数组或张量。在机器学习中，张量是用来表示多维数据的常见数据结构。TensorFlow是一个开源的机器学习框架，它采用了张量作为其主要的数据表示方式，并支持在大规模分布式计算环境中进行高效的数值计算。\n",
    "\n",
    "张量可以被视作一种扩展的矩阵，可以具有任意数量的维度。例如，一个一维的张量是一个向量，二维的张量是一个矩阵，而三维或更高维的张量可以表示更复杂的数据结构，比如图像或视频。\n",
    "\n",
    "在TensorFlow中，张量是数据的核心表示形式。它们可以存储在计算图的节点中，并作为输入或输出传递给不同的操作。张量可以具有不同的数据类型，比如浮点数、整数或布尔值，以及不同的形状，即每个维度的大小。\n",
    "\n",
    "使用张量作为数据的表示形式使得TensorFlow能够执行高效的数值计算，并在复杂的模型和大规模数据集上进行训练和推理。通过定义计算图和使用张量操作，开发者可以利用TensorFlow的强大功能来构建和训练各种机器学习模型。"
   ]
  },
  {
   "cell_type": "markdown",
   "source": [
    "## 标量\n",
    "\n"
   ],
   "metadata": {
    "collapsed": false
   }
  },
  {
   "cell_type": "code",
   "execution_count": 2,
   "outputs": [
    {
     "name": "stdout",
     "output_type": "stream",
     "text": [
      "D:\\code\\Ai_starter\\directory1\n"
     ]
    }
   ],
   "source": [
    "import os\n",
    "print(os.path.abspath('.'))"
   ],
   "metadata": {
    "collapsed": false,
    "ExecuteTime": {
     "end_time": "2023-07-16T01:24:01.282185500Z",
     "start_time": "2023-07-16T01:24:01.250198500Z"
    }
   }
  },
  {
   "cell_type": "code",
   "execution_count": 7,
   "outputs": [
    {
     "name": "stdout",
     "output_type": "stream",
     "text": [
      "[2 3 4 5 6]\n"
     ]
    }
   ],
   "source": [
    "import numpy as np\n",
    "array = np.array([1,2,3,4,5])\n",
    "array2 = array + 1\n",
    "print(array2)"
   ],
   "metadata": {
    "collapsed": false,
    "ExecuteTime": {
     "end_time": "2023-07-16T01:27:02.070261900Z",
     "start_time": "2023-07-16T01:27:02.052286500Z"
    }
   }
  },
  {
   "cell_type": "code",
   "execution_count": 12,
   "outputs": [
    {
     "name": "stdout",
     "output_type": "stream",
     "text": [
      "[ 3  5  7  9 11]\n"
     ]
    },
    {
     "data": {
      "text/plain": "array([ 2,  6, 12, 20, 30])"
     },
     "execution_count": 12,
     "metadata": {},
     "output_type": "execute_result"
    }
   ],
   "source": [
    "array2+array\n",
    "print(array2+array)\n",
    "array2*array"
   ],
   "metadata": {
    "collapsed": false,
    "ExecuteTime": {
     "end_time": "2023-07-16T01:29:22.752329100Z",
     "start_time": "2023-07-16T01:29:22.730311400Z"
    }
   }
  },
  {
   "cell_type": "code",
   "execution_count": 17,
   "outputs": [
    {
     "name": "stdout",
     "output_type": "stream",
     "text": [
      "1\n",
      "(5,)\n"
     ]
    }
   ],
   "source": [
    "print(array.ndim)\n",
    "print(array.shape)"
   ],
   "metadata": {
    "collapsed": false,
    "ExecuteTime": {
     "end_time": "2023-07-16T01:33:43.995985800Z",
     "start_time": "2023-07-16T01:33:43.971984400Z"
    }
   }
  },
  {
   "cell_type": "code",
   "execution_count": 19,
   "outputs": [
    {
     "ename": "AttributeError",
     "evalue": "'list' object has no attribute 'shape'",
     "output_type": "error",
     "traceback": [
      "\u001B[1;31m---------------------------------------------------------------------------\u001B[0m",
      "\u001B[1;31mAttributeError\u001B[0m                            Traceback (most recent call last)",
      "Cell \u001B[1;32mIn[19], line 2\u001B[0m\n\u001B[0;32m      1\u001B[0m \u001B[38;5;28mlist\u001B[39m \u001B[38;5;241m=\u001B[39m [\u001B[38;5;241m3\u001B[39m,\u001B[38;5;241m4\u001B[39m,\u001B[38;5;241m5\u001B[39m,\u001B[38;5;241m6\u001B[39m,\u001B[38;5;241m7\u001B[39m]\n\u001B[1;32m----> 2\u001B[0m \u001B[38;5;28mlist\u001B[39m\u001B[38;5;241m.\u001B[39mshape\n",
      "\u001B[1;31mAttributeError\u001B[0m: 'list' object has no attribute 'shape'"
     ]
    }
   ],
   "source": [
    "list = [3,4,5,6,7]\n",
    "list.shape"
   ],
   "metadata": {
    "collapsed": false,
    "ExecuteTime": {
     "end_time": "2023-07-16T01:34:45.872903200Z",
     "start_time": "2023-07-16T01:34:45.851553100Z"
    }
   }
  },
  {
   "cell_type": "code",
   "execution_count": 29,
   "outputs": [
    {
     "data": {
      "text/plain": "dtype('int32')"
     },
     "execution_count": 29,
     "metadata": {},
     "output_type": "execute_result"
    }
   ],
   "source": [
    "array3 = np.array(list)\n",
    "array3.shape\n",
    "type(array3)\n",
    "array3.dtype"
   ],
   "metadata": {
    "collapsed": false,
    "ExecuteTime": {
     "end_time": "2023-07-16T01:38:26.839767900Z",
     "start_time": "2023-07-16T01:38:26.815755800Z"
    }
   }
  },
  {
   "cell_type": "code",
   "execution_count": 33,
   "outputs": [
    {
     "name": "stdout",
     "output_type": "stream",
     "text": [
      "(5,)\n",
      "5\n"
     ]
    }
   ],
   "source": [
    "print(array3.shape)\n",
    "print(array3.size)"
   ],
   "metadata": {
    "collapsed": false,
    "ExecuteTime": {
     "end_time": "2023-07-16T01:39:03.108977600Z",
     "start_time": "2023-07-16T01:39:03.070318Z"
    }
   }
  },
  {
   "cell_type": "code",
   "execution_count": 36,
   "outputs": [
    {
     "data": {
      "text/plain": "array([4, 5])"
     },
     "execution_count": 36,
     "metadata": {},
     "output_type": "execute_result"
    }
   ],
   "source": [
    "array3[1:3]"
   ],
   "metadata": {
    "collapsed": false,
    "ExecuteTime": {
     "end_time": "2023-07-16T01:39:52.674585900Z",
     "start_time": "2023-07-16T01:39:52.643122Z"
    }
   }
  },
  {
   "cell_type": "code",
   "execution_count": 39,
   "outputs": [
    {
     "name": "stdout",
     "output_type": "stream",
     "text": [
      "[[  1   2   3]\n",
      " [  4 100   6]\n",
      " [  7   8   9]]\n"
     ]
    },
    {
     "data": {
      "text/plain": "array([  4, 100,   6])"
     },
     "execution_count": 39,
     "metadata": {},
     "output_type": "execute_result"
    }
   ],
   "source": [
    "array4=np.array([[1,2,3],[4,5,6],[7,8,9]])\n",
    "array4[1,1] = 100\n",
    "print(array4)\n",
    "array4[1]"
   ],
   "metadata": {
    "collapsed": false,
    "ExecuteTime": {
     "end_time": "2023-07-16T01:43:30.903158Z",
     "start_time": "2023-07-16T01:43:30.878193500Z"
    }
   }
  },
  {
   "cell_type": "code",
   "execution_count": 53,
   "outputs": [
    {
     "name": "stdout",
     "output_type": "stream",
     "text": [
      "[ True  True  True False False  True  True False False  True]\n"
     ]
    }
   ],
   "source": [
    "mask = np.array([11,1,1,0,0,-1,1,0,0,1],dtype=bool)\n",
    "print(mask)"
   ],
   "metadata": {
    "collapsed": false,
    "ExecuteTime": {
     "end_time": "2023-07-16T01:47:29.692258300Z",
     "start_time": "2023-07-16T01:47:29.687733500Z"
    }
   }
  },
  {
   "cell_type": "code",
   "execution_count": 55,
   "outputs": [
    {
     "name": "stdout",
     "output_type": "stream",
     "text": [
      "[ 0 10 20 30 40 50 60 70 80 90]\n"
     ]
    },
    {
     "data": {
      "text/plain": "array([ 0, 10, 20, 50, 60, 90])"
     },
     "execution_count": 55,
     "metadata": {},
     "output_type": "execute_result"
    }
   ],
   "source": [
    "array = np.arange(0,100,10)\n",
    "print(array)\n",
    "array[mask]"
   ],
   "metadata": {
    "collapsed": false,
    "ExecuteTime": {
     "end_time": "2023-07-16T01:47:55.002591500Z",
     "start_time": "2023-07-16T01:47:54.980659900Z"
    }
   }
  },
  {
   "cell_type": "code",
   "execution_count": 59,
   "outputs": [
    {
     "name": "stdout",
     "output_type": "stream",
     "text": [
      "[0.6000459  0.36494855 0.24826247 0.06970919 0.80096416 0.14246215\n",
      " 0.24395416 0.30183497 0.4351986  0.11551882]\n",
      "[0.6000459  0.80096416]\n"
     ]
    }
   ],
   "source": [
    "array = np.random.rand(10)\n",
    "print(array)\n",
    "mask = array>0.5\n",
    "print(array[mask])"
   ],
   "metadata": {
    "collapsed": false,
    "ExecuteTime": {
     "end_time": "2023-07-16T02:22:01.517641300Z",
     "start_time": "2023-07-16T02:22:01.492563200Z"
    }
   }
  },
  {
   "cell_type": "code",
   "execution_count": 61,
   "outputs": [
    {
     "name": "stdout",
     "output_type": "stream",
     "text": [
      "Help on function loadtxt in module numpy:\n",
      "\n",
      "loadtxt(fname, dtype=<class 'float'>, comments='#', delimiter=None, converters=None, skiprows=0, usecols=None, unpack=False, ndmin=0, encoding='bytes', max_rows=None, *, quotechar=None, like=None)\n",
      "    Load data from a text file.\n",
      "    \n",
      "    Parameters\n",
      "    ----------\n",
      "    fname : file, str, pathlib.Path, list of str, generator\n",
      "        File, filename, list, or generator to read.  If the filename\n",
      "        extension is ``.gz`` or ``.bz2``, the file is first decompressed. Note\n",
      "        that generators must return bytes or strings. The strings\n",
      "        in a list or produced by a generator are treated as lines.\n",
      "    dtype : data-type, optional\n",
      "        Data-type of the resulting array; default: float.  If this is a\n",
      "        structured data-type, the resulting array will be 1-dimensional, and\n",
      "        each row will be interpreted as an element of the array.  In this\n",
      "        case, the number of columns used must match the number of fields in\n",
      "        the data-type.\n",
      "    comments : str or sequence of str or None, optional\n",
      "        The characters or list of characters used to indicate the start of a\n",
      "        comment. None implies no comments. For backwards compatibility, byte\n",
      "        strings will be decoded as 'latin1'. The default is '#'.\n",
      "    delimiter : str, optional\n",
      "        The character used to separate the values. For backwards compatibility,\n",
      "        byte strings will be decoded as 'latin1'. The default is whitespace.\n",
      "    \n",
      "        .. versionchanged:: 1.23.0\n",
      "           Only single character delimiters are supported. Newline characters\n",
      "           cannot be used as the delimiter.\n",
      "    \n",
      "    converters : dict or callable, optional\n",
      "        Converter functions to customize value parsing. If `converters` is\n",
      "        callable, the function is applied to all columns, else it must be a\n",
      "        dict that maps column number to a parser function.\n",
      "        See examples for further details.\n",
      "        Default: None.\n",
      "    \n",
      "        .. versionchanged:: 1.23.0\n",
      "           The ability to pass a single callable to be applied to all columns\n",
      "           was added.\n",
      "    \n",
      "    skiprows : int, optional\n",
      "        Skip the first `skiprows` lines, including comments; default: 0.\n",
      "    usecols : int or sequence, optional\n",
      "        Which columns to read, with 0 being the first. For example,\n",
      "        ``usecols = (1,4,5)`` will extract the 2nd, 5th and 6th columns.\n",
      "        The default, None, results in all columns being read.\n",
      "    \n",
      "        .. versionchanged:: 1.11.0\n",
      "            When a single column has to be read it is possible to use\n",
      "            an integer instead of a tuple. E.g ``usecols = 3`` reads the\n",
      "            fourth column the same way as ``usecols = (3,)`` would.\n",
      "    unpack : bool, optional\n",
      "        If True, the returned array is transposed, so that arguments may be\n",
      "        unpacked using ``x, y, z = loadtxt(...)``.  When used with a\n",
      "        structured data-type, arrays are returned for each field.\n",
      "        Default is False.\n",
      "    ndmin : int, optional\n",
      "        The returned array will have at least `ndmin` dimensions.\n",
      "        Otherwise mono-dimensional axes will be squeezed.\n",
      "        Legal values: 0 (default), 1 or 2.\n",
      "    \n",
      "        .. versionadded:: 1.6.0\n",
      "    encoding : str, optional\n",
      "        Encoding used to decode the inputfile. Does not apply to input streams.\n",
      "        The special value 'bytes' enables backward compatibility workarounds\n",
      "        that ensures you receive byte arrays as results if possible and passes\n",
      "        'latin1' encoded strings to converters. Override this value to receive\n",
      "        unicode arrays and pass strings as input to converters.  If set to None\n",
      "        the system default is used. The default value is 'bytes'.\n",
      "    \n",
      "        .. versionadded:: 1.14.0\n",
      "    max_rows : int, optional\n",
      "        Read `max_rows` rows of content after `skiprows` lines. The default is\n",
      "        to read all the rows. Note that empty rows containing no data such as\n",
      "        empty lines and comment lines are not counted towards `max_rows`,\n",
      "        while such lines are counted in `skiprows`.\n",
      "    \n",
      "        .. versionadded:: 1.16.0\n",
      "        \n",
      "        .. versionchanged:: 1.23.0\n",
      "            Lines containing no data, including comment lines (e.g., lines \n",
      "            starting with '#' or as specified via `comments`) are not counted \n",
      "            towards `max_rows`.\n",
      "    quotechar : unicode character or None, optional\n",
      "        The character used to denote the start and end of a quoted item.\n",
      "        Occurrences of the delimiter or comment characters are ignored within\n",
      "        a quoted item. The default value is ``quotechar=None``, which means\n",
      "        quoting support is disabled.\n",
      "    \n",
      "        If two consecutive instances of `quotechar` are found within a quoted\n",
      "        field, the first is treated as an escape character. See examples.\n",
      "    \n",
      "        .. versionadded:: 1.23.0\n",
      "    like : array_like, optional\n",
      "        Reference object to allow the creation of arrays which are not\n",
      "        NumPy arrays. If an array-like passed in as ``like`` supports\n",
      "        the ``__array_function__`` protocol, the result will be defined\n",
      "        by it. In this case, it ensures the creation of an array object\n",
      "        compatible with that passed in via this argument.\n",
      "    \n",
      "        .. versionadded:: 1.20.0\n",
      "    \n",
      "    Returns\n",
      "    -------\n",
      "    out : ndarray\n",
      "        Data read from the text file.\n",
      "    \n",
      "    See Also\n",
      "    --------\n",
      "    load, fromstring, fromregex\n",
      "    genfromtxt : Load data with missing values handled as specified.\n",
      "    scipy.io.loadmat : reads MATLAB data files\n",
      "    \n",
      "    Notes\n",
      "    -----\n",
      "    This function aims to be a fast reader for simply formatted files.  The\n",
      "    `genfromtxt` function provides more sophisticated handling of, e.g.,\n",
      "    lines with missing values.\n",
      "    \n",
      "    Each row in the input text file must have the same number of values to be\n",
      "    able to read all values. If all rows do not have same number of values, a\n",
      "    subset of up to n columns (where n is the least number of values present\n",
      "    in all rows) can be read by specifying the columns via `usecols`.\n",
      "    \n",
      "    .. versionadded:: 1.10.0\n",
      "    \n",
      "    The strings produced by the Python float.hex method can be used as\n",
      "    input for floats.\n",
      "    \n",
      "    Examples\n",
      "    --------\n",
      "    >>> from io import StringIO   # StringIO behaves like a file object\n",
      "    >>> c = StringIO(\"0 1\\n2 3\")\n",
      "    >>> np.loadtxt(c)\n",
      "    array([[0., 1.],\n",
      "           [2., 3.]])\n",
      "    \n",
      "    >>> d = StringIO(\"M 21 72\\nF 35 58\")\n",
      "    >>> np.loadtxt(d, dtype={'names': ('gender', 'age', 'weight'),\n",
      "    ...                      'formats': ('S1', 'i4', 'f4')})\n",
      "    array([(b'M', 21, 72.), (b'F', 35, 58.)],\n",
      "          dtype=[('gender', 'S1'), ('age', '<i4'), ('weight', '<f4')])\n",
      "    \n",
      "    >>> c = StringIO(\"1,0,2\\n3,0,4\")\n",
      "    >>> x, y = np.loadtxt(c, delimiter=',', usecols=(0, 2), unpack=True)\n",
      "    >>> x\n",
      "    array([1., 3.])\n",
      "    >>> y\n",
      "    array([2., 4.])\n",
      "    \n",
      "    The `converters` argument is used to specify functions to preprocess the\n",
      "    text prior to parsing. `converters` can be a dictionary that maps\n",
      "    preprocessing functions to each column:\n",
      "    \n",
      "    >>> s = StringIO(\"1.618, 2.296\\n3.141, 4.669\\n\")\n",
      "    >>> conv = {\n",
      "    ...     0: lambda x: np.floor(float(x)),  # conversion fn for column 0\n",
      "    ...     1: lambda x: np.ceil(float(x)),  # conversion fn for column 1\n",
      "    ... }\n",
      "    >>> np.loadtxt(s, delimiter=\",\", converters=conv)\n",
      "    array([[1., 3.],\n",
      "           [3., 5.]])\n",
      "    \n",
      "    `converters` can be a callable instead of a dictionary, in which case it\n",
      "    is applied to all columns:\n",
      "    \n",
      "    >>> s = StringIO(\"0xDE 0xAD\\n0xC0 0xDE\")\n",
      "    >>> import functools\n",
      "    >>> conv = functools.partial(int, base=16)\n",
      "    >>> np.loadtxt(s, converters=conv)\n",
      "    array([[222., 173.],\n",
      "           [192., 222.]])\n",
      "    \n",
      "    This example shows how `converters` can be used to convert a field\n",
      "    with a trailing minus sign into a negative number.\n",
      "    \n",
      "    >>> s = StringIO('10.01 31.25-\\n19.22 64.31\\n17.57- 63.94')\n",
      "    >>> def conv(fld):\n",
      "    ...     return -float(fld[:-1]) if fld.endswith(b'-') else float(fld)\n",
      "    ...\n",
      "    >>> np.loadtxt(s, converters=conv)\n",
      "    array([[ 10.01, -31.25],\n",
      "           [ 19.22,  64.31],\n",
      "           [-17.57,  63.94]])\n",
      "    \n",
      "    Using a callable as the converter can be particularly useful for handling\n",
      "    values with different formatting, e.g. floats with underscores:\n",
      "    \n",
      "    >>> s = StringIO(\"1 2.7 100_000\")\n",
      "    >>> np.loadtxt(s, converters=float)\n",
      "    array([1.e+00, 2.7e+00, 1.e+05])\n",
      "    \n",
      "    This idea can be extended to automatically handle values specified in\n",
      "    many different formats:\n",
      "    \n",
      "    >>> def conv(val):\n",
      "    ...     try:\n",
      "    ...         return float(val)\n",
      "    ...     except ValueError:\n",
      "    ...         return float.fromhex(val)\n",
      "    >>> s = StringIO(\"1, 2.5, 3_000, 0b4, 0x1.4000000000000p+2\")\n",
      "    >>> np.loadtxt(s, delimiter=\",\", converters=conv, encoding=None)\n",
      "    array([1.0e+00, 2.5e+00, 3.0e+03, 1.8e+02, 5.0e+00])\n",
      "    \n",
      "    Note that with the default ``encoding=\"bytes\"``, the inputs to the\n",
      "    converter function are latin-1 encoded byte strings. To deactivate the\n",
      "    implicit encoding prior to conversion, use ``encoding=None``\n",
      "    \n",
      "    >>> s = StringIO('10.01 31.25-\\n19.22 64.31\\n17.57- 63.94')\n",
      "    >>> conv = lambda x: -float(x[:-1]) if x.endswith('-') else float(x)\n",
      "    >>> np.loadtxt(s, converters=conv, encoding=None)\n",
      "    array([[ 10.01, -31.25],\n",
      "           [ 19.22,  64.31],\n",
      "           [-17.57,  63.94]])\n",
      "    \n",
      "    Support for quoted fields is enabled with the `quotechar` parameter.\n",
      "    Comment and delimiter characters are ignored when they appear within a\n",
      "    quoted item delineated by `quotechar`:\n",
      "    \n",
      "    >>> s = StringIO('\"alpha, #42\", 10.0\\n\"beta, #64\", 2.0\\n')\n",
      "    >>> dtype = np.dtype([(\"label\", \"U12\"), (\"value\", float)])\n",
      "    >>> np.loadtxt(s, dtype=dtype, delimiter=\",\", quotechar='\"')\n",
      "    array([('alpha, #42', 10.), ('beta, #64',  2.)],\n",
      "          dtype=[('label', '<U12'), ('value', '<f8')])\n",
      "    \n",
      "    Quoted fields can be separated by multiple whitespace characters:\n",
      "    \n",
      "    >>> s = StringIO('\"alpha, #42\"       10.0\\n\"beta, #64\" 2.0\\n')\n",
      "    >>> dtype = np.dtype([(\"label\", \"U12\"), (\"value\", float)])\n",
      "    >>> np.loadtxt(s, dtype=dtype, delimiter=None, quotechar='\"')\n",
      "    array([('alpha, #42', 10.), ('beta, #64',  2.)],\n",
      "          dtype=[('label', '<U12'), ('value', '<f8')])\n",
      "    \n",
      "    Two consecutive quote characters within a quoted field are treated as a\n",
      "    single escaped character:\n",
      "    \n",
      "    >>> s = StringIO('\"Hello, my name is \"\"Monty\"\"!\"')\n",
      "    >>> np.loadtxt(s, dtype=\"U\", delimiter=\",\", quotechar='\"')\n",
      "    array('Hello, my name is \"Monty\"!', dtype='<U26')\n",
      "    \n",
      "    Read subset of columns when all rows do not contain equal number of values:\n",
      "    \n",
      "    >>> d = StringIO(\"1 2\\n2 4\\n3 9 12\\n4 16 20\")\n",
      "    >>> np.loadtxt(d, usecols=(0, 1))\n",
      "    array([[ 1.,  2.],\n",
      "           [ 2.,  4.],\n",
      "           [ 3.,  9.],\n",
      "           [ 4., 16.]])\n",
      "\n",
      "None\n"
     ]
    }
   ],
   "source": [
    "print(help(np.loadtxt))"
   ],
   "metadata": {
    "collapsed": false,
    "ExecuteTime": {
     "end_time": "2023-07-16T02:24:30.959703900Z",
     "start_time": "2023-07-16T02:24:30.955028700Z"
    }
   }
  }
 ],
 "metadata": {
  "kernelspec": {
   "display_name": "Python 3 (ipykernel)",
   "language": "python",
   "name": "python3"
  },
  "language_info": {
   "codemirror_mode": {
    "name": "ipython",
    "version": 3
   },
   "file_extension": ".py",
   "mimetype": "text/x-python",
   "name": "python",
   "nbconvert_exporter": "python",
   "pygments_lexer": "ipython3",
   "version": "3.11.3"
  }
 },
 "nbformat": 4,
 "nbformat_minor": 2
}
