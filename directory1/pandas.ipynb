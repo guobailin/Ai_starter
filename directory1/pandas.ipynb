{
 "cells": [
  {
   "cell_type": "code",
   "execution_count": 10,
   "metadata": {
    "collapsed": true,
    "ExecuteTime": {
     "end_time": "2023-07-16T03:02:10.329034100Z",
     "start_time": "2023-07-16T03:02:10.275475500Z"
    }
   },
   "outputs": [
    {
     "name": "stdout",
     "output_type": "stream",
     "text": [
      "D:\\code\\Ai_starter\\directory1\n"
     ]
    },
    {
     "data": {
      "text/plain": "   x  pclass  survived                                             name  \\\n0  1       1         1                    Allen, Miss. Elisabeth Walton   \n1  2       1         1                   Allison, Master. Hudson Trevor   \n2  3       1         0                     Allison, Miss. Helen Loraine   \n3  4       1         0             Allison, Mr. Hudson Joshua Creighton   \n4  5       1         0  Allison, Mrs. Hudson J C (Bessie Waldo Daniels)   \n\n      sex     age  sibsp  parch  ticket      fare    cabin embarked  \\\n0  female      29      0      0   24160  211.3375       B5        S   \n1    male  0.9167      1      2  113781    151.55  C22 C26        S   \n2  female       2      1      2  113781    151.55  C22 C26        S   \n3    male      30      1      2  113781    151.55  C22 C26        S   \n4  female      25      1      2  113781    151.55  C22 C26        S   \n\n                         home.dest  \n0                     St Louis, MO  \n1  Montreal, PQ / Chesterville, ON  \n2  Montreal, PQ / Chesterville, ON  \n3  Montreal, PQ / Chesterville, ON  \n4  Montreal, PQ / Chesterville, ON  ",
      "text/html": "<div>\n<style scoped>\n    .dataframe tbody tr th:only-of-type {\n        vertical-align: middle;\n    }\n\n    .dataframe tbody tr th {\n        vertical-align: top;\n    }\n\n    .dataframe thead th {\n        text-align: right;\n    }\n</style>\n<table border=\"1\" class=\"dataframe\">\n  <thead>\n    <tr style=\"text-align: right;\">\n      <th></th>\n      <th>x</th>\n      <th>pclass</th>\n      <th>survived</th>\n      <th>name</th>\n      <th>sex</th>\n      <th>age</th>\n      <th>sibsp</th>\n      <th>parch</th>\n      <th>ticket</th>\n      <th>fare</th>\n      <th>cabin</th>\n      <th>embarked</th>\n      <th>home.dest</th>\n    </tr>\n  </thead>\n  <tbody>\n    <tr>\n      <th>0</th>\n      <td>1</td>\n      <td>1</td>\n      <td>1</td>\n      <td>Allen, Miss. Elisabeth Walton</td>\n      <td>female</td>\n      <td>29</td>\n      <td>0</td>\n      <td>0</td>\n      <td>24160</td>\n      <td>211.3375</td>\n      <td>B5</td>\n      <td>S</td>\n      <td>St Louis, MO</td>\n    </tr>\n    <tr>\n      <th>1</th>\n      <td>2</td>\n      <td>1</td>\n      <td>1</td>\n      <td>Allison, Master. Hudson Trevor</td>\n      <td>male</td>\n      <td>0.9167</td>\n      <td>1</td>\n      <td>2</td>\n      <td>113781</td>\n      <td>151.55</td>\n      <td>C22 C26</td>\n      <td>S</td>\n      <td>Montreal, PQ / Chesterville, ON</td>\n    </tr>\n    <tr>\n      <th>2</th>\n      <td>3</td>\n      <td>1</td>\n      <td>0</td>\n      <td>Allison, Miss. Helen Loraine</td>\n      <td>female</td>\n      <td>2</td>\n      <td>1</td>\n      <td>2</td>\n      <td>113781</td>\n      <td>151.55</td>\n      <td>C22 C26</td>\n      <td>S</td>\n      <td>Montreal, PQ / Chesterville, ON</td>\n    </tr>\n    <tr>\n      <th>3</th>\n      <td>4</td>\n      <td>1</td>\n      <td>0</td>\n      <td>Allison, Mr. Hudson Joshua Creighton</td>\n      <td>male</td>\n      <td>30</td>\n      <td>1</td>\n      <td>2</td>\n      <td>113781</td>\n      <td>151.55</td>\n      <td>C22 C26</td>\n      <td>S</td>\n      <td>Montreal, PQ / Chesterville, ON</td>\n    </tr>\n    <tr>\n      <th>4</th>\n      <td>5</td>\n      <td>1</td>\n      <td>0</td>\n      <td>Allison, Mrs. Hudson J C (Bessie Waldo Daniels)</td>\n      <td>female</td>\n      <td>25</td>\n      <td>1</td>\n      <td>2</td>\n      <td>113781</td>\n      <td>151.55</td>\n      <td>C22 C26</td>\n      <td>S</td>\n      <td>Montreal, PQ / Chesterville, ON</td>\n    </tr>\n  </tbody>\n</table>\n</div>"
     },
     "execution_count": 10,
     "metadata": {},
     "output_type": "execute_result"
    }
   ],
   "source": [
    "import pandas as pd\n",
    "import os\n",
    "print(os.path.abspath('.'))\n",
    "df = pd.read_csv('../data/csv/titanic_data.csv')\n",
    "df.head()"
   ]
  },
  {
   "cell_type": "code",
   "execution_count": 12,
   "outputs": [
    {
     "data": {
      "text/plain": "         x  pclass  survived                                     name     sex  \\\n1299  1300       3         0                      Yasbeck, Mr. Antoni    male   \n1300  1301       3         1  Yasbeck, Mrs. Antoni (Selini Alexander)  female   \n1301  1302       3         0                     Youseff, Mr. Gerious    male   \n1302  1303       3         0                        Yousif, Mr. Wazli    male   \n1303  1304       3         0                    Yousseff, Mr. Gerious    male   \n1304  1305       3         0                     Zabour, Miss. Hileni  female   \n1305  1306       3         0                    Zabour, Miss. Thamine  female   \n1306  1307       3         0                Zakarian, Mr. Mapriededer    male   \n1307  1308       3         0                      Zakarian, Mr. Ortin    male   \n1308  1309       3         0                       Zimmerman, Mr. Leo    male   \n\n       age  sibsp  parch  ticket     fare cabin embarked home.dest  \n1299    27      1      0    2659  14.4542     ?        C         ?  \n1300    15      1      0    2659  14.4542     ?        C         ?  \n1301  45.5      0      0    2628    7.225     ?        C         ?  \n1302     ?      0      0    2647    7.225     ?        C         ?  \n1303     ?      0      0    2627  14.4583     ?        C         ?  \n1304  14.5      1      0    2665  14.4542     ?        C         ?  \n1305     ?      1      0    2665  14.4542     ?        C         ?  \n1306  26.5      0      0    2656    7.225     ?        C         ?  \n1307    27      0      0    2670    7.225     ?        C         ?  \n1308    29      0      0  315082    7.875     ?        S         ?  ",
      "text/html": "<div>\n<style scoped>\n    .dataframe tbody tr th:only-of-type {\n        vertical-align: middle;\n    }\n\n    .dataframe tbody tr th {\n        vertical-align: top;\n    }\n\n    .dataframe thead th {\n        text-align: right;\n    }\n</style>\n<table border=\"1\" class=\"dataframe\">\n  <thead>\n    <tr style=\"text-align: right;\">\n      <th></th>\n      <th>x</th>\n      <th>pclass</th>\n      <th>survived</th>\n      <th>name</th>\n      <th>sex</th>\n      <th>age</th>\n      <th>sibsp</th>\n      <th>parch</th>\n      <th>ticket</th>\n      <th>fare</th>\n      <th>cabin</th>\n      <th>embarked</th>\n      <th>home.dest</th>\n    </tr>\n  </thead>\n  <tbody>\n    <tr>\n      <th>1299</th>\n      <td>1300</td>\n      <td>3</td>\n      <td>0</td>\n      <td>Yasbeck, Mr. Antoni</td>\n      <td>male</td>\n      <td>27</td>\n      <td>1</td>\n      <td>0</td>\n      <td>2659</td>\n      <td>14.4542</td>\n      <td>?</td>\n      <td>C</td>\n      <td>?</td>\n    </tr>\n    <tr>\n      <th>1300</th>\n      <td>1301</td>\n      <td>3</td>\n      <td>1</td>\n      <td>Yasbeck, Mrs. Antoni (Selini Alexander)</td>\n      <td>female</td>\n      <td>15</td>\n      <td>1</td>\n      <td>0</td>\n      <td>2659</td>\n      <td>14.4542</td>\n      <td>?</td>\n      <td>C</td>\n      <td>?</td>\n    </tr>\n    <tr>\n      <th>1301</th>\n      <td>1302</td>\n      <td>3</td>\n      <td>0</td>\n      <td>Youseff, Mr. Gerious</td>\n      <td>male</td>\n      <td>45.5</td>\n      <td>0</td>\n      <td>0</td>\n      <td>2628</td>\n      <td>7.225</td>\n      <td>?</td>\n      <td>C</td>\n      <td>?</td>\n    </tr>\n    <tr>\n      <th>1302</th>\n      <td>1303</td>\n      <td>3</td>\n      <td>0</td>\n      <td>Yousif, Mr. Wazli</td>\n      <td>male</td>\n      <td>?</td>\n      <td>0</td>\n      <td>0</td>\n      <td>2647</td>\n      <td>7.225</td>\n      <td>?</td>\n      <td>C</td>\n      <td>?</td>\n    </tr>\n    <tr>\n      <th>1303</th>\n      <td>1304</td>\n      <td>3</td>\n      <td>0</td>\n      <td>Yousseff, Mr. Gerious</td>\n      <td>male</td>\n      <td>?</td>\n      <td>0</td>\n      <td>0</td>\n      <td>2627</td>\n      <td>14.4583</td>\n      <td>?</td>\n      <td>C</td>\n      <td>?</td>\n    </tr>\n    <tr>\n      <th>1304</th>\n      <td>1305</td>\n      <td>3</td>\n      <td>0</td>\n      <td>Zabour, Miss. Hileni</td>\n      <td>female</td>\n      <td>14.5</td>\n      <td>1</td>\n      <td>0</td>\n      <td>2665</td>\n      <td>14.4542</td>\n      <td>?</td>\n      <td>C</td>\n      <td>?</td>\n    </tr>\n    <tr>\n      <th>1305</th>\n      <td>1306</td>\n      <td>3</td>\n      <td>0</td>\n      <td>Zabour, Miss. Thamine</td>\n      <td>female</td>\n      <td>?</td>\n      <td>1</td>\n      <td>0</td>\n      <td>2665</td>\n      <td>14.4542</td>\n      <td>?</td>\n      <td>C</td>\n      <td>?</td>\n    </tr>\n    <tr>\n      <th>1306</th>\n      <td>1307</td>\n      <td>3</td>\n      <td>0</td>\n      <td>Zakarian, Mr. Mapriededer</td>\n      <td>male</td>\n      <td>26.5</td>\n      <td>0</td>\n      <td>0</td>\n      <td>2656</td>\n      <td>7.225</td>\n      <td>?</td>\n      <td>C</td>\n      <td>?</td>\n    </tr>\n    <tr>\n      <th>1307</th>\n      <td>1308</td>\n      <td>3</td>\n      <td>0</td>\n      <td>Zakarian, Mr. Ortin</td>\n      <td>male</td>\n      <td>27</td>\n      <td>0</td>\n      <td>0</td>\n      <td>2670</td>\n      <td>7.225</td>\n      <td>?</td>\n      <td>C</td>\n      <td>?</td>\n    </tr>\n    <tr>\n      <th>1308</th>\n      <td>1309</td>\n      <td>3</td>\n      <td>0</td>\n      <td>Zimmerman, Mr. Leo</td>\n      <td>male</td>\n      <td>29</td>\n      <td>0</td>\n      <td>0</td>\n      <td>315082</td>\n      <td>7.875</td>\n      <td>?</td>\n      <td>S</td>\n      <td>?</td>\n    </tr>\n  </tbody>\n</table>\n</div>"
     },
     "execution_count": 12,
     "metadata": {},
     "output_type": "execute_result"
    }
   ],
   "source": [
    "df.tail(10)"
   ],
   "metadata": {
    "collapsed": false,
    "ExecuteTime": {
     "end_time": "2023-07-16T03:02:41.268669900Z",
     "start_time": "2023-07-16T03:02:41.235700500Z"
    }
   }
  },
  {
   "cell_type": "code",
   "execution_count": 15,
   "outputs": [
    {
     "name": "stdout",
     "output_type": "stream",
     "text": [
      "<class 'pandas.core.frame.DataFrame'>\n",
      "RangeIndex: 1309 entries, 0 to 1308\n",
      "Data columns (total 13 columns):\n",
      " #   Column     Non-Null Count  Dtype \n",
      "---  ------     --------------  ----- \n",
      " 0   x          1309 non-null   int64 \n",
      " 1   pclass     1309 non-null   int64 \n",
      " 2   survived   1309 non-null   int64 \n",
      " 3   name       1309 non-null   object\n",
      " 4   sex        1309 non-null   object\n",
      " 5   age        1309 non-null   object\n",
      " 6   sibsp      1309 non-null   int64 \n",
      " 7   parch      1309 non-null   int64 \n",
      " 8   ticket     1309 non-null   object\n",
      " 9   fare       1309 non-null   object\n",
      " 10  cabin      1309 non-null   object\n",
      " 11  embarked   1309 non-null   object\n",
      " 12  home.dest  1309 non-null   object\n",
      "dtypes: int64(5), object(8)\n",
      "memory usage: 133.1+ KB\n"
     ]
    }
   ],
   "source": [
    "df.info()"
   ],
   "metadata": {
    "collapsed": false,
    "ExecuteTime": {
     "end_time": "2023-07-16T03:04:52.393437700Z",
     "start_time": "2023-07-16T03:04:52.364236600Z"
    }
   }
  },
  {
   "cell_type": "code",
   "execution_count": 20,
   "outputs": [
    {
     "data": {
      "text/plain": "0        29\n1    0.9167\n2         2\n3        30\n4        25\n5        48\n6        63\n7        39\n8        53\n9        71\nName: age, dtype: object"
     },
     "execution_count": 20,
     "metadata": {},
     "output_type": "execute_result"
    }
   ],
   "source": [
    "age = df['age']\n",
    "age[:10]"
   ],
   "metadata": {
    "collapsed": false,
    "ExecuteTime": {
     "end_time": "2023-07-16T03:10:05.579186800Z",
     "start_time": "2023-07-16T03:10:05.555769600Z"
    }
   }
  },
  {
   "cell_type": "code",
   "execution_count": 22,
   "outputs": [
    {
     "data": {
      "text/plain": "x                                        1\npclass                                   1\nsurvived                                 1\nname         Allen, Miss. Elisabeth Walton\nsex                                 female\nage                                     29\nsibsp                                    0\nparch                                    0\nticket                               24160\nfare                              211.3375\ncabin                                   B5\nembarked                                 S\nhome.dest                     St Louis, MO\nName: 0, dtype: object"
     },
     "execution_count": 22,
     "metadata": {},
     "output_type": "execute_result"
    }
   ],
   "source": [
    "df.iloc[0]"
   ],
   "metadata": {
    "collapsed": false,
    "ExecuteTime": {
     "end_time": "2023-07-16T03:14:57.782238900Z",
     "start_time": "2023-07-16T03:14:57.753244Z"
    }
   }
  },
  {
   "cell_type": "code",
   "execution_count": 25,
   "outputs": [
    {
     "name": "stdout",
     "output_type": "stream",
     "text": [
      "   A  B  C\n",
      "a  1  2  3\n",
      "b  4  5  6\n"
     ]
    }
   ],
   "source": [
    "df = pd.DataFrame([[1,2,3],[4,5,6]],index = ['a','b'],columns= ['A','B','C'])\n",
    "print(df)"
   ],
   "metadata": {
    "collapsed": false,
    "ExecuteTime": {
     "end_time": "2023-07-16T03:17:07.274167600Z",
     "start_time": "2023-07-16T03:17:07.235812400Z"
    }
   }
  },
  {
   "cell_type": "code",
   "execution_count": 27,
   "outputs": [
    {
     "data": {
      "text/plain": "A    5\nB    7\nC    9\ndtype: int64"
     },
     "execution_count": 27,
     "metadata": {},
     "output_type": "execute_result"
    }
   ],
   "source": [
    "df.sum()"
   ],
   "metadata": {
    "collapsed": false,
    "ExecuteTime": {
     "end_time": "2023-07-16T03:17:21.122523900Z",
     "start_time": "2023-07-16T03:17:21.101539400Z"
    }
   }
  },
  {
   "cell_type": "code",
   "execution_count": 30,
   "outputs": [
    {
     "data": {
      "text/plain": "A    5\nB    7\nC    9\ndtype: int64"
     },
     "execution_count": 30,
     "metadata": {},
     "output_type": "execute_result"
    }
   ],
   "source": [
    "df.sum(axis=0)"
   ],
   "metadata": {
    "collapsed": false,
    "ExecuteTime": {
     "end_time": "2023-07-16T03:18:31.740615100Z",
     "start_time": "2023-07-16T03:18:31.722054200Z"
    }
   }
  },
  {
   "cell_type": "code",
   "execution_count": 44,
   "outputs": [
    {
     "data": {
      "text/plain": "(3,)"
     },
     "execution_count": 44,
     "metadata": {},
     "output_type": "execute_result"
    }
   ],
   "source": [
    "df.iloc[0].shape"
   ],
   "metadata": {
    "collapsed": false,
    "ExecuteTime": {
     "end_time": "2023-07-16T03:21:03.587524200Z",
     "start_time": "2023-07-16T03:21:03.563525300Z"
    }
   }
  },
  {
   "cell_type": "code",
   "execution_count": 48,
   "outputs": [
    {
     "data": {
      "text/plain": "                 x       pclass     survived        sibsp        parch\ncount  1309.000000  1309.000000  1309.000000  1309.000000  1309.000000\nmean    655.000000     2.294882     0.381971     0.498854     0.385027\nstd     378.020061     0.837836     0.486055     1.041658     0.865560\nmin       1.000000     1.000000     0.000000     0.000000     0.000000\n25%     328.000000     2.000000     0.000000     0.000000     0.000000\n50%     655.000000     3.000000     0.000000     0.000000     0.000000\n75%     982.000000     3.000000     1.000000     1.000000     0.000000\nmax    1309.000000     3.000000     1.000000     8.000000     9.000000",
      "text/html": "<div>\n<style scoped>\n    .dataframe tbody tr th:only-of-type {\n        vertical-align: middle;\n    }\n\n    .dataframe tbody tr th {\n        vertical-align: top;\n    }\n\n    .dataframe thead th {\n        text-align: right;\n    }\n</style>\n<table border=\"1\" class=\"dataframe\">\n  <thead>\n    <tr style=\"text-align: right;\">\n      <th></th>\n      <th>x</th>\n      <th>pclass</th>\n      <th>survived</th>\n      <th>sibsp</th>\n      <th>parch</th>\n    </tr>\n  </thead>\n  <tbody>\n    <tr>\n      <th>count</th>\n      <td>1309.000000</td>\n      <td>1309.000000</td>\n      <td>1309.000000</td>\n      <td>1309.000000</td>\n      <td>1309.000000</td>\n    </tr>\n    <tr>\n      <th>mean</th>\n      <td>655.000000</td>\n      <td>2.294882</td>\n      <td>0.381971</td>\n      <td>0.498854</td>\n      <td>0.385027</td>\n    </tr>\n    <tr>\n      <th>std</th>\n      <td>378.020061</td>\n      <td>0.837836</td>\n      <td>0.486055</td>\n      <td>1.041658</td>\n      <td>0.865560</td>\n    </tr>\n    <tr>\n      <th>min</th>\n      <td>1.000000</td>\n      <td>1.000000</td>\n      <td>0.000000</td>\n      <td>0.000000</td>\n      <td>0.000000</td>\n    </tr>\n    <tr>\n      <th>25%</th>\n      <td>328.000000</td>\n      <td>2.000000</td>\n      <td>0.000000</td>\n      <td>0.000000</td>\n      <td>0.000000</td>\n    </tr>\n    <tr>\n      <th>50%</th>\n      <td>655.000000</td>\n      <td>3.000000</td>\n      <td>0.000000</td>\n      <td>0.000000</td>\n      <td>0.000000</td>\n    </tr>\n    <tr>\n      <th>75%</th>\n      <td>982.000000</td>\n      <td>3.000000</td>\n      <td>1.000000</td>\n      <td>1.000000</td>\n      <td>0.000000</td>\n    </tr>\n    <tr>\n      <th>max</th>\n      <td>1309.000000</td>\n      <td>3.000000</td>\n      <td>1.000000</td>\n      <td>8.000000</td>\n      <td>9.000000</td>\n    </tr>\n  </tbody>\n</table>\n</div>"
     },
     "execution_count": 48,
     "metadata": {},
     "output_type": "execute_result"
    }
   ],
   "source": [
    "df = pd.read_csv('../data/csv/titanic_data.csv')\n",
    "df.describe()"
   ],
   "metadata": {
    "collapsed": false,
    "ExecuteTime": {
     "end_time": "2023-07-16T03:22:52.093455500Z",
     "start_time": "2023-07-16T03:22:52.066205400Z"
    }
   }
  },
  {
   "cell_type": "code",
   "execution_count": 50,
   "outputs": [
    {
     "name": "stderr",
     "output_type": "stream",
     "text": [
      "C:\\Users\\Administrator\\AppData\\Local\\Temp\\ipykernel_69296\\1545644723.py:1: FutureWarning: The default value of numeric_only in DataFrame.cov is deprecated. In a future version, it will default to False. Select only valid columns or specify the value of numeric_only to silence this warning.\n",
      "  df.cov()\n"
     ]
    },
    {
     "data": {
      "text/plain": "                      x      pclass   survived      sibsp     parch\nx         142899.166667  284.357034 -53.967125  25.828746  1.172783\npclass       284.357034    0.701969  -0.127248   0.053090  0.013287\nsurvived     -53.967125   -0.127248   0.236250  -0.014088  0.034776\nsibsp         25.828746    0.053090  -0.014088   1.085052  0.336833\nparch          1.172783    0.013287   0.034776   0.336833  0.749195",
      "text/html": "<div>\n<style scoped>\n    .dataframe tbody tr th:only-of-type {\n        vertical-align: middle;\n    }\n\n    .dataframe tbody tr th {\n        vertical-align: top;\n    }\n\n    .dataframe thead th {\n        text-align: right;\n    }\n</style>\n<table border=\"1\" class=\"dataframe\">\n  <thead>\n    <tr style=\"text-align: right;\">\n      <th></th>\n      <th>x</th>\n      <th>pclass</th>\n      <th>survived</th>\n      <th>sibsp</th>\n      <th>parch</th>\n    </tr>\n  </thead>\n  <tbody>\n    <tr>\n      <th>x</th>\n      <td>142899.166667</td>\n      <td>284.357034</td>\n      <td>-53.967125</td>\n      <td>25.828746</td>\n      <td>1.172783</td>\n    </tr>\n    <tr>\n      <th>pclass</th>\n      <td>284.357034</td>\n      <td>0.701969</td>\n      <td>-0.127248</td>\n      <td>0.053090</td>\n      <td>0.013287</td>\n    </tr>\n    <tr>\n      <th>survived</th>\n      <td>-53.967125</td>\n      <td>-0.127248</td>\n      <td>0.236250</td>\n      <td>-0.014088</td>\n      <td>0.034776</td>\n    </tr>\n    <tr>\n      <th>sibsp</th>\n      <td>25.828746</td>\n      <td>0.053090</td>\n      <td>-0.014088</td>\n      <td>1.085052</td>\n      <td>0.336833</td>\n    </tr>\n    <tr>\n      <th>parch</th>\n      <td>1.172783</td>\n      <td>0.013287</td>\n      <td>0.034776</td>\n      <td>0.336833</td>\n      <td>0.749195</td>\n    </tr>\n  </tbody>\n</table>\n</div>"
     },
     "execution_count": 50,
     "metadata": {},
     "output_type": "execute_result"
    }
   ],
   "source": [
    "df.cov()"
   ],
   "metadata": {
    "collapsed": false,
    "ExecuteTime": {
     "end_time": "2023-07-16T03:23:27.058493200Z",
     "start_time": "2023-07-16T03:23:27.033498200Z"
    }
   }
  },
  {
   "cell_type": "code",
   "execution_count": 52,
   "outputs": [
    {
     "name": "stderr",
     "output_type": "stream",
     "text": [
      "C:\\Users\\Administrator\\AppData\\Local\\Temp\\ipykernel_69296\\1134722465.py:1: FutureWarning: The default value of numeric_only in DataFrame.corr is deprecated. In a future version, it will default to False. Select only valid columns or specify the value of numeric_only to silence this warning.\n",
      "  df.corr()\n"
     ]
    },
    {
     "data": {
      "text/plain": "                 x    pclass  survived     sibsp     parch\nx         1.000000  0.897822 -0.293717  0.065594  0.003584\npclass    0.897822  1.000000 -0.312469  0.060832  0.018322\nsurvived -0.293717 -0.312469  1.000000 -0.027825  0.082660\nsibsp     0.065594  0.060832 -0.027825  1.000000  0.373587\nparch     0.003584  0.018322  0.082660  0.373587  1.000000",
      "text/html": "<div>\n<style scoped>\n    .dataframe tbody tr th:only-of-type {\n        vertical-align: middle;\n    }\n\n    .dataframe tbody tr th {\n        vertical-align: top;\n    }\n\n    .dataframe thead th {\n        text-align: right;\n    }\n</style>\n<table border=\"1\" class=\"dataframe\">\n  <thead>\n    <tr style=\"text-align: right;\">\n      <th></th>\n      <th>x</th>\n      <th>pclass</th>\n      <th>survived</th>\n      <th>sibsp</th>\n      <th>parch</th>\n    </tr>\n  </thead>\n  <tbody>\n    <tr>\n      <th>x</th>\n      <td>1.000000</td>\n      <td>0.897822</td>\n      <td>-0.293717</td>\n      <td>0.065594</td>\n      <td>0.003584</td>\n    </tr>\n    <tr>\n      <th>pclass</th>\n      <td>0.897822</td>\n      <td>1.000000</td>\n      <td>-0.312469</td>\n      <td>0.060832</td>\n      <td>0.018322</td>\n    </tr>\n    <tr>\n      <th>survived</th>\n      <td>-0.293717</td>\n      <td>-0.312469</td>\n      <td>1.000000</td>\n      <td>-0.027825</td>\n      <td>0.082660</td>\n    </tr>\n    <tr>\n      <th>sibsp</th>\n      <td>0.065594</td>\n      <td>0.060832</td>\n      <td>-0.027825</td>\n      <td>1.000000</td>\n      <td>0.373587</td>\n    </tr>\n    <tr>\n      <th>parch</th>\n      <td>0.003584</td>\n      <td>0.018322</td>\n      <td>0.082660</td>\n      <td>0.373587</td>\n      <td>1.000000</td>\n    </tr>\n  </tbody>\n</table>\n</div>"
     },
     "execution_count": 52,
     "metadata": {},
     "output_type": "execute_result"
    }
   ],
   "source": [
    "df.corr()"
   ],
   "metadata": {
    "collapsed": false,
    "ExecuteTime": {
     "end_time": "2023-07-16T03:25:56.764276700Z",
     "start_time": "2023-07-16T03:25:56.741009300Z"
    }
   }
  },
  {
   "cell_type": "code",
   "execution_count": 58,
   "outputs": [
    {
     "name": "stdout",
     "output_type": "stream",
     "text": [
      "<class 'pandas.core.frame.DataFrame'>\n",
      "RangeIndex: 1309 entries, 0 to 1308\n",
      "Data columns (total 13 columns):\n",
      " #   Column     Non-Null Count  Dtype \n",
      "---  ------     --------------  ----- \n",
      " 0   x          1309 non-null   int64 \n",
      " 1   pclass     1309 non-null   int64 \n",
      " 2   survived   1309 non-null   int64 \n",
      " 3   name       1309 non-null   object\n",
      " 4   sex        1309 non-null   object\n",
      " 5   age        1309 non-null   object\n",
      " 6   sibsp      1309 non-null   int64 \n",
      " 7   parch      1309 non-null   int64 \n",
      " 8   ticket     1309 non-null   object\n",
      " 9   fare       1309 non-null   object\n",
      " 10  cabin      1309 non-null   object\n",
      " 11  embarked   1309 non-null   object\n",
      " 12  home.dest  1309 non-null   object\n",
      "dtypes: int64(5), object(8)\n",
      "memory usage: 133.1+ KB\n"
     ]
    },
    {
     "data": {
      "text/plain": "pclass     1       2       3\nsex                         \nfemale  93.5      65  9.8417\nmale    93.5  9.6875       ?",
      "text/html": "<div>\n<style scoped>\n    .dataframe tbody tr th:only-of-type {\n        vertical-align: middle;\n    }\n\n    .dataframe tbody tr th {\n        vertical-align: top;\n    }\n\n    .dataframe thead th {\n        text-align: right;\n    }\n</style>\n<table border=\"1\" class=\"dataframe\">\n  <thead>\n    <tr style=\"text-align: right;\">\n      <th>pclass</th>\n      <th>1</th>\n      <th>2</th>\n      <th>3</th>\n    </tr>\n    <tr>\n      <th>sex</th>\n      <th></th>\n      <th></th>\n      <th></th>\n    </tr>\n  </thead>\n  <tbody>\n    <tr>\n      <th>female</th>\n      <td>93.5</td>\n      <td>65</td>\n      <td>9.8417</td>\n    </tr>\n    <tr>\n      <th>male</th>\n      <td>93.5</td>\n      <td>9.6875</td>\n      <td>?</td>\n    </tr>\n  </tbody>\n</table>\n</div>"
     },
     "execution_count": 58,
     "metadata": {},
     "output_type": "execute_result"
    }
   ],
   "source": [
    "df.info()\n",
    "df.pivot_table(index='sex',columns='pclass',values='fare',aggfunc='max')"
   ],
   "metadata": {
    "collapsed": false,
    "ExecuteTime": {
     "end_time": "2023-07-16T03:32:30.319773700Z",
     "start_time": "2023-07-16T03:32:30.246731500Z"
    }
   }
  },
  {
   "cell_type": "code",
   "execution_count": 74,
   "outputs": [
    {
     "name": "stdout",
     "output_type": "stream",
     "text": [
      "sex\n",
      "female    466\n",
      "male      843\n",
      "Name: age, dtype: int64\n"
     ]
    }
   ],
   "source": [
    "print(df.groupby('sex')['age'].size())\n"
   ],
   "metadata": {
    "collapsed": false,
    "ExecuteTime": {
     "end_time": "2023-07-16T03:42:18.465076400Z",
     "start_time": "2023-07-16T03:42:18.446593500Z"
    }
   }
  }
 ],
 "metadata": {
  "kernelspec": {
   "display_name": "Python 3",
   "language": "python",
   "name": "python3"
  },
  "language_info": {
   "codemirror_mode": {
    "name": "ipython",
    "version": 2
   },
   "file_extension": ".py",
   "mimetype": "text/x-python",
   "name": "python",
   "nbconvert_exporter": "python",
   "pygments_lexer": "ipython2",
   "version": "2.7.6"
  }
 },
 "nbformat": 4,
 "nbformat_minor": 0
}
